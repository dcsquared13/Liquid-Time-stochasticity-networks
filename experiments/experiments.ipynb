{
 "cells": [
  {
   "cell_type": "code",
   "execution_count": 1,
   "id": "3bd1578e",
   "metadata": {},
   "outputs": [
    {
     "name": "stderr",
     "output_type": "stream",
     "text": [
      "2023-09-10 12:57:37.396140: I tensorflow/core/platform/cpu_feature_guard.cc:193] This TensorFlow binary is optimized with oneAPI Deep Neural Network Library (oneDNN) to use the following CPU instructions in performance-critical operations:  AVX2 FMA\n",
      "To enable them in other operations, rebuild TensorFlow with the appropriate compiler flags.\n",
      "2023-09-10 12:57:38.300369: W tensorflow/compiler/xla/stream_executor/platform/default/dso_loader.cc:64] Could not load dynamic library 'libnvinfer.so.7'; dlerror: libnvinfer.so.7: cannot open shared object file: No such file or directory; LD_LIBRARY_PATH: /usr/local/cuda/lib64:/usr/local/nccl2/lib:/usr/local/cuda/extras/CUPTI/lib64\n",
      "2023-09-10 12:57:38.300486: W tensorflow/compiler/xla/stream_executor/platform/default/dso_loader.cc:64] Could not load dynamic library 'libnvinfer_plugin.so.7'; dlerror: libnvinfer_plugin.so.7: cannot open shared object file: No such file or directory; LD_LIBRARY_PATH: /usr/local/cuda/lib64:/usr/local/nccl2/lib:/usr/local/cuda/extras/CUPTI/lib64\n",
      "2023-09-10 12:57:38.300497: W tensorflow/compiler/tf2tensorrt/utils/py_utils.cc:38] TF-TRT Warning: Cannot dlopen some TensorRT libraries. If you would like to use Nvidia GPU with TensorRT, please make sure the missing libraries mentioned above are installed properly.\n"
     ]
    }
   ],
   "source": [
    "import numpy as np\n",
    "import pandas as pd\n",
    "import matplotlib.pyplot as plt\n",
    "import tensorflow as tf\n",
    "import requests\n",
    "import os\n",
    "import datetime\n",
    "\n",
    "from lts import LTSCell"
   ]
  },
  {
   "cell_type": "code",
   "execution_count": 2,
   "id": "c9ba0f99",
   "metadata": {},
   "outputs": [],
   "source": [
    "url = 'http://api.scraperlink.com/investpy/?email=your@email.com&type=historical_data&product=cryptos&symbol=BTC&from_date=10/01/2013&to_date=8/1/2023'\n",
    "response = requests.request('GET', url)\n",
    "prices = response.json()['data']\n",
    "data = pd.DataFrame(prices)"
   ]
  },
  {
   "cell_type": "code",
   "execution_count": 3,
   "id": "9d9f6cdd",
   "metadata": {},
   "outputs": [
    {
     "data": {
      "text/html": [
       "<div>\n",
       "<style scoped>\n",
       "    .dataframe tbody tr th:only-of-type {\n",
       "        vertical-align: middle;\n",
       "    }\n",
       "\n",
       "    .dataframe tbody tr th {\n",
       "        vertical-align: top;\n",
       "    }\n",
       "\n",
       "    .dataframe thead th {\n",
       "        text-align: right;\n",
       "    }\n",
       "</style>\n",
       "<table border=\"1\" class=\"dataframe\">\n",
       "  <thead>\n",
       "    <tr style=\"text-align: right;\">\n",
       "      <th></th>\n",
       "      <th>direction_color</th>\n",
       "      <th>rowDate</th>\n",
       "      <th>rowDateRaw</th>\n",
       "      <th>rowDateTimestamp</th>\n",
       "      <th>last_close</th>\n",
       "      <th>last_open</th>\n",
       "      <th>last_max</th>\n",
       "      <th>last_min</th>\n",
       "      <th>volume</th>\n",
       "      <th>volumeRaw</th>\n",
       "      <th>change_precent</th>\n",
       "      <th>last_closeRaw</th>\n",
       "      <th>last_openRaw</th>\n",
       "      <th>last_maxRaw</th>\n",
       "      <th>last_minRaw</th>\n",
       "      <th>change_precentRaw</th>\n",
       "    </tr>\n",
       "  </thead>\n",
       "  <tbody>\n",
       "    <tr>\n",
       "      <th>0</th>\n",
       "      <td>greenFont</td>\n",
       "      <td>Aug 01, 2023</td>\n",
       "      <td>1690848000</td>\n",
       "      <td>2023-08-01T00:00:00Z</td>\n",
       "      <td>29,712.2</td>\n",
       "      <td>29,232.3</td>\n",
       "      <td>29,712.2</td>\n",
       "      <td>28,611.0</td>\n",
       "      <td>64.01K</td>\n",
       "      <td>64006</td>\n",
       "      <td>1.64</td>\n",
       "      <td>29712.16796875000000</td>\n",
       "      <td>29232.25390625000000</td>\n",
       "      <td>29712.16796875000000</td>\n",
       "      <td>28611.04687500000000</td>\n",
       "      <td>1.641259</td>\n",
       "    </tr>\n",
       "    <tr>\n",
       "      <th>1</th>\n",
       "      <td>redFont</td>\n",
       "      <td>Jul 31, 2023</td>\n",
       "      <td>1690761600</td>\n",
       "      <td>2023-07-31T00:00:00Z</td>\n",
       "      <td>29,232.4</td>\n",
       "      <td>29,282.0</td>\n",
       "      <td>29,502.3</td>\n",
       "      <td>29,128.3</td>\n",
       "      <td>31.84K</td>\n",
       "      <td>31839</td>\n",
       "      <td>-0.17</td>\n",
       "      <td>29232.38867187500000</td>\n",
       "      <td>29282.01953125000000</td>\n",
       "      <td>29502.28125000000000</td>\n",
       "      <td>29128.27539062500000</td>\n",
       "      <td>-0.168507</td>\n",
       "    </tr>\n",
       "    <tr>\n",
       "      <th>2</th>\n",
       "      <td>redFont</td>\n",
       "      <td>Jul 30, 2023</td>\n",
       "      <td>1690675200</td>\n",
       "      <td>2023-07-30T00:00:00Z</td>\n",
       "      <td>29,281.7</td>\n",
       "      <td>29,354.2</td>\n",
       "      <td>29,446.6</td>\n",
       "      <td>29,054.5</td>\n",
       "      <td>20.58K</td>\n",
       "      <td>20584</td>\n",
       "      <td>-0.24</td>\n",
       "      <td>29281.73046875000000</td>\n",
       "      <td>29354.15820312500000</td>\n",
       "      <td>29446.58984375000000</td>\n",
       "      <td>29054.48632812500000</td>\n",
       "      <td>-0.244534</td>\n",
       "    </tr>\n",
       "    <tr>\n",
       "      <th>3</th>\n",
       "      <td>greenFont</td>\n",
       "      <td>Jul 29, 2023</td>\n",
       "      <td>1690588800</td>\n",
       "      <td>2023-07-29T00:00:00Z</td>\n",
       "      <td>29,353.5</td>\n",
       "      <td>29,315.0</td>\n",
       "      <td>29,400.1</td>\n",
       "      <td>29,256.9</td>\n",
       "      <td>13.90K</td>\n",
       "      <td>13895</td>\n",
       "      <td>0.13</td>\n",
       "      <td>29353.50976562500000</td>\n",
       "      <td>29315.02343750000000</td>\n",
       "      <td>29400.10351562500000</td>\n",
       "      <td>29256.91015625000000</td>\n",
       "      <td>0.131285</td>\n",
       "    </tr>\n",
       "    <tr>\n",
       "      <th>4</th>\n",
       "      <td>greenFont</td>\n",
       "      <td>Jul 28, 2023</td>\n",
       "      <td>1690502400</td>\n",
       "      <td>2023-07-28T00:00:00Z</td>\n",
       "      <td>29,315.0</td>\n",
       "      <td>29,222.7</td>\n",
       "      <td>29,533.0</td>\n",
       "      <td>29,125.1</td>\n",
       "      <td>31.42K</td>\n",
       "      <td>31422</td>\n",
       "      <td>0.32</td>\n",
       "      <td>29315.02343750000000</td>\n",
       "      <td>29222.72460937500000</td>\n",
       "      <td>29533.03320312500000</td>\n",
       "      <td>29125.13281250000000</td>\n",
       "      <td>0.315846</td>\n",
       "    </tr>\n",
       "  </tbody>\n",
       "</table>\n",
       "</div>"
      ],
      "text/plain": [
       "  direction_color       rowDate  rowDateRaw      rowDateTimestamp last_close  \\\n",
       "0       greenFont  Aug 01, 2023  1690848000  2023-08-01T00:00:00Z   29,712.2   \n",
       "1         redFont  Jul 31, 2023  1690761600  2023-07-31T00:00:00Z   29,232.4   \n",
       "2         redFont  Jul 30, 2023  1690675200  2023-07-30T00:00:00Z   29,281.7   \n",
       "3       greenFont  Jul 29, 2023  1690588800  2023-07-29T00:00:00Z   29,353.5   \n",
       "4       greenFont  Jul 28, 2023  1690502400  2023-07-28T00:00:00Z   29,315.0   \n",
       "\n",
       "  last_open  last_max  last_min  volume  volumeRaw change_precent  \\\n",
       "0  29,232.3  29,712.2  28,611.0  64.01K      64006           1.64   \n",
       "1  29,282.0  29,502.3  29,128.3  31.84K      31839          -0.17   \n",
       "2  29,354.2  29,446.6  29,054.5  20.58K      20584          -0.24   \n",
       "3  29,315.0  29,400.1  29,256.9  13.90K      13895           0.13   \n",
       "4  29,222.7  29,533.0  29,125.1  31.42K      31422           0.32   \n",
       "\n",
       "          last_closeRaw          last_openRaw           last_maxRaw  \\\n",
       "0  29712.16796875000000  29232.25390625000000  29712.16796875000000   \n",
       "1  29232.38867187500000  29282.01953125000000  29502.28125000000000   \n",
       "2  29281.73046875000000  29354.15820312500000  29446.58984375000000   \n",
       "3  29353.50976562500000  29315.02343750000000  29400.10351562500000   \n",
       "4  29315.02343750000000  29222.72460937500000  29533.03320312500000   \n",
       "\n",
       "            last_minRaw  change_precentRaw  \n",
       "0  28611.04687500000000           1.641259  \n",
       "1  29128.27539062500000          -0.168507  \n",
       "2  29054.48632812500000          -0.244534  \n",
       "3  29256.91015625000000           0.131285  \n",
       "4  29125.13281250000000           0.315846  "
      ]
     },
     "execution_count": 3,
     "metadata": {},
     "output_type": "execute_result"
    }
   ],
   "source": [
    "data.head()"
   ]
  },
  {
   "cell_type": "code",
   "execution_count": 4,
   "id": "5643aa5d",
   "metadata": {},
   "outputs": [
    {
     "data": {
      "text/html": [
       "<div>\n",
       "<style scoped>\n",
       "    .dataframe tbody tr th:only-of-type {\n",
       "        vertical-align: middle;\n",
       "    }\n",
       "\n",
       "    .dataframe tbody tr th {\n",
       "        vertical-align: top;\n",
       "    }\n",
       "\n",
       "    .dataframe thead th {\n",
       "        text-align: right;\n",
       "    }\n",
       "</style>\n",
       "<table border=\"1\" class=\"dataframe\">\n",
       "  <thead>\n",
       "    <tr style=\"text-align: right;\">\n",
       "      <th></th>\n",
       "      <th>rowDate</th>\n",
       "      <th>last_closeRaw</th>\n",
       "      <th>last_openRaw</th>\n",
       "      <th>last_maxRaw</th>\n",
       "      <th>last_minRaw</th>\n",
       "    </tr>\n",
       "  </thead>\n",
       "  <tbody>\n",
       "    <tr>\n",
       "      <th>0</th>\n",
       "      <td>Aug 01, 2023</td>\n",
       "      <td>29712.16796875000000</td>\n",
       "      <td>29232.25390625000000</td>\n",
       "      <td>29712.16796875000000</td>\n",
       "      <td>28611.04687500000000</td>\n",
       "    </tr>\n",
       "    <tr>\n",
       "      <th>1</th>\n",
       "      <td>Jul 31, 2023</td>\n",
       "      <td>29232.38867187500000</td>\n",
       "      <td>29282.01953125000000</td>\n",
       "      <td>29502.28125000000000</td>\n",
       "      <td>29128.27539062500000</td>\n",
       "    </tr>\n",
       "    <tr>\n",
       "      <th>2</th>\n",
       "      <td>Jul 30, 2023</td>\n",
       "      <td>29281.73046875000000</td>\n",
       "      <td>29354.15820312500000</td>\n",
       "      <td>29446.58984375000000</td>\n",
       "      <td>29054.48632812500000</td>\n",
       "    </tr>\n",
       "    <tr>\n",
       "      <th>3</th>\n",
       "      <td>Jul 29, 2023</td>\n",
       "      <td>29353.50976562500000</td>\n",
       "      <td>29315.02343750000000</td>\n",
       "      <td>29400.10351562500000</td>\n",
       "      <td>29256.91015625000000</td>\n",
       "    </tr>\n",
       "    <tr>\n",
       "      <th>4</th>\n",
       "      <td>Jul 28, 2023</td>\n",
       "      <td>29315.02343750000000</td>\n",
       "      <td>29222.72460937500000</td>\n",
       "      <td>29533.03320312500000</td>\n",
       "      <td>29125.13281250000000</td>\n",
       "    </tr>\n",
       "  </tbody>\n",
       "</table>\n",
       "</div>"
      ],
      "text/plain": [
       "        rowDate         last_closeRaw          last_openRaw  \\\n",
       "0  Aug 01, 2023  29712.16796875000000  29232.25390625000000   \n",
       "1  Jul 31, 2023  29232.38867187500000  29282.01953125000000   \n",
       "2  Jul 30, 2023  29281.73046875000000  29354.15820312500000   \n",
       "3  Jul 29, 2023  29353.50976562500000  29315.02343750000000   \n",
       "4  Jul 28, 2023  29315.02343750000000  29222.72460937500000   \n",
       "\n",
       "            last_maxRaw           last_minRaw  \n",
       "0  29712.16796875000000  28611.04687500000000  \n",
       "1  29502.28125000000000  29128.27539062500000  \n",
       "2  29446.58984375000000  29054.48632812500000  \n",
       "3  29400.10351562500000  29256.91015625000000  \n",
       "4  29533.03320312500000  29125.13281250000000  "
      ]
     },
     "execution_count": 4,
     "metadata": {},
     "output_type": "execute_result"
    }
   ],
   "source": [
    "# Remove unnecessary columns\n",
    "data.drop(columns=[\n",
    "  'direction_color',\n",
    "  'rowDateRaw',\n",
    "  'rowDateTimestamp',\n",
    "\n",
    "  # Quantity of btc bought or sold\n",
    "  'volume',\n",
    "  'volumeRaw',\n",
    "  'change_precent',\n",
    "  'change_precentRaw',\n",
    "  'last_close',\n",
    "  'last_open',\n",
    "  'last_max',\n",
    "  'last_min'\n",
    "  ],\n",
    "  inplace=True\n",
    ")\n",
    "\n",
    "data.head()"
   ]
  },
  {
   "cell_type": "code",
   "execution_count": 5,
   "id": "d7c2c5af",
   "metadata": {},
   "outputs": [
    {
     "name": "stdout",
     "output_type": "stream",
     "text": [
      "<class 'pandas.core.frame.DataFrame'>\n",
      "RangeIndex: 3592 entries, 0 to 3591\n",
      "Data columns (total 5 columns):\n",
      " #   Column         Non-Null Count  Dtype \n",
      "---  ------         --------------  ----- \n",
      " 0   rowDate        3592 non-null   object\n",
      " 1   last_closeRaw  3592 non-null   object\n",
      " 2   last_openRaw   3592 non-null   object\n",
      " 3   last_maxRaw    3592 non-null   object\n",
      " 4   last_minRaw    3592 non-null   object\n",
      "dtypes: object(5)\n",
      "memory usage: 140.4+ KB\n"
     ]
    }
   ],
   "source": [
    "data.info()"
   ]
  },
  {
   "cell_type": "code",
   "execution_count": 6,
   "id": "428e484a",
   "metadata": {},
   "outputs": [
    {
     "data": {
      "text/plain": [
       "rowDate          0\n",
       "last_closeRaw    0\n",
       "last_openRaw     0\n",
       "last_maxRaw      0\n",
       "last_minRaw      0\n",
       "dtype: int64"
      ]
     },
     "execution_count": 6,
     "metadata": {},
     "output_type": "execute_result"
    }
   ],
   "source": [
    "data.isnull().sum()"
   ]
  },
  {
   "cell_type": "code",
   "execution_count": 7,
   "id": "fd6defd7",
   "metadata": {},
   "outputs": [],
   "source": [
    "# Convert date object to datetime\n",
    "data['rowDate'] = pd.to_datetime(data['rowDate'])\n",
    "\n",
    "# Convert values to floats\n",
    "data = data.astype({\n",
    "    'last_closeRaw': 'float',\n",
    "    'last_openRaw': 'float',\n",
    "    'last_maxRaw': 'float',\n",
    "    'last_minRaw': 'float'\n",
    "})"
   ]
  },
  {
   "cell_type": "code",
   "execution_count": 8,
   "id": "1eb21dbb",
   "metadata": {},
   "outputs": [
    {
     "name": "stdout",
     "output_type": "stream",
     "text": [
      "<class 'pandas.core.frame.DataFrame'>\n",
      "RangeIndex: 3592 entries, 0 to 3591\n",
      "Data columns (total 5 columns):\n",
      " #   Column         Non-Null Count  Dtype         \n",
      "---  ------         --------------  -----         \n",
      " 0   rowDate        3592 non-null   datetime64[ns]\n",
      " 1   last_closeRaw  3592 non-null   float64       \n",
      " 2   last_openRaw   3592 non-null   float64       \n",
      " 3   last_maxRaw    3592 non-null   float64       \n",
      " 4   last_minRaw    3592 non-null   float64       \n",
      "dtypes: datetime64[ns](1), float64(4)\n",
      "memory usage: 140.4 KB\n"
     ]
    }
   ],
   "source": [
    "data.info()"
   ]
  },
  {
   "cell_type": "code",
   "execution_count": 9,
   "id": "0836bfb3",
   "metadata": {},
   "outputs": [
    {
     "data": {
      "text/html": [
       "<div>\n",
       "<style scoped>\n",
       "    .dataframe tbody tr th:only-of-type {\n",
       "        vertical-align: middle;\n",
       "    }\n",
       "\n",
       "    .dataframe tbody tr th {\n",
       "        vertical-align: top;\n",
       "    }\n",
       "\n",
       "    .dataframe thead th {\n",
       "        text-align: right;\n",
       "    }\n",
       "</style>\n",
       "<table border=\"1\" class=\"dataframe\">\n",
       "  <thead>\n",
       "    <tr style=\"text-align: right;\">\n",
       "      <th></th>\n",
       "      <th>rowDate</th>\n",
       "      <th>last_closeRaw</th>\n",
       "      <th>last_openRaw</th>\n",
       "      <th>last_maxRaw</th>\n",
       "      <th>last_minRaw</th>\n",
       "    </tr>\n",
       "  </thead>\n",
       "  <tbody>\n",
       "    <tr>\n",
       "      <th>0</th>\n",
       "      <td>2023-08-01</td>\n",
       "      <td>29712.167969</td>\n",
       "      <td>29232.253906</td>\n",
       "      <td>29712.167969</td>\n",
       "      <td>28611.046875</td>\n",
       "    </tr>\n",
       "    <tr>\n",
       "      <th>1</th>\n",
       "      <td>2023-07-31</td>\n",
       "      <td>29232.388672</td>\n",
       "      <td>29282.019531</td>\n",
       "      <td>29502.281250</td>\n",
       "      <td>29128.275391</td>\n",
       "    </tr>\n",
       "    <tr>\n",
       "      <th>2</th>\n",
       "      <td>2023-07-30</td>\n",
       "      <td>29281.730469</td>\n",
       "      <td>29354.158203</td>\n",
       "      <td>29446.589844</td>\n",
       "      <td>29054.486328</td>\n",
       "    </tr>\n",
       "    <tr>\n",
       "      <th>3</th>\n",
       "      <td>2023-07-29</td>\n",
       "      <td>29353.509766</td>\n",
       "      <td>29315.023438</td>\n",
       "      <td>29400.103516</td>\n",
       "      <td>29256.910156</td>\n",
       "    </tr>\n",
       "    <tr>\n",
       "      <th>4</th>\n",
       "      <td>2023-07-28</td>\n",
       "      <td>29315.023438</td>\n",
       "      <td>29222.724609</td>\n",
       "      <td>29533.033203</td>\n",
       "      <td>29125.132812</td>\n",
       "    </tr>\n",
       "  </tbody>\n",
       "</table>\n",
       "</div>"
      ],
      "text/plain": [
       "     rowDate  last_closeRaw  last_openRaw   last_maxRaw   last_minRaw\n",
       "0 2023-08-01   29712.167969  29232.253906  29712.167969  28611.046875\n",
       "1 2023-07-31   29232.388672  29282.019531  29502.281250  29128.275391\n",
       "2 2023-07-30   29281.730469  29354.158203  29446.589844  29054.486328\n",
       "3 2023-07-29   29353.509766  29315.023438  29400.103516  29256.910156\n",
       "4 2023-07-28   29315.023438  29222.724609  29533.033203  29125.132812"
      ]
     },
     "execution_count": 9,
     "metadata": {},
     "output_type": "execute_result"
    }
   ],
   "source": [
    "data.head()"
   ]
  },
  {
   "cell_type": "code",
   "execution_count": 10,
   "id": "6a8ec0d6",
   "metadata": {},
   "outputs": [],
   "source": [
    "data.rename(\n",
    "    columns={\n",
    "        'last_closeRaw': 'close',\n",
    "        'last_openRaw': 'open',\n",
    "        'last_maxRaw': 'high',\n",
    "        'last_minRaw': 'low',\n",
    "        'rowDate': 'Date'\n",
    "    },\n",
    "    inplace=True\n",
    ")"
   ]
  },
  {
   "cell_type": "code",
   "execution_count": 11,
   "id": "3533749a",
   "metadata": {},
   "outputs": [
    {
     "data": {
      "text/html": [
       "<div>\n",
       "<style scoped>\n",
       "    .dataframe tbody tr th:only-of-type {\n",
       "        vertical-align: middle;\n",
       "    }\n",
       "\n",
       "    .dataframe tbody tr th {\n",
       "        vertical-align: top;\n",
       "    }\n",
       "\n",
       "    .dataframe thead th {\n",
       "        text-align: right;\n",
       "    }\n",
       "</style>\n",
       "<table border=\"1\" class=\"dataframe\">\n",
       "  <thead>\n",
       "    <tr style=\"text-align: right;\">\n",
       "      <th></th>\n",
       "      <th>Date</th>\n",
       "      <th>close</th>\n",
       "      <th>open</th>\n",
       "      <th>high</th>\n",
       "      <th>low</th>\n",
       "    </tr>\n",
       "  </thead>\n",
       "  <tbody>\n",
       "    <tr>\n",
       "      <th>0</th>\n",
       "      <td>2023-08-01</td>\n",
       "      <td>29712.167969</td>\n",
       "      <td>29232.253906</td>\n",
       "      <td>29712.167969</td>\n",
       "      <td>28611.046875</td>\n",
       "    </tr>\n",
       "    <tr>\n",
       "      <th>1</th>\n",
       "      <td>2023-07-31</td>\n",
       "      <td>29232.388672</td>\n",
       "      <td>29282.019531</td>\n",
       "      <td>29502.281250</td>\n",
       "      <td>29128.275391</td>\n",
       "    </tr>\n",
       "    <tr>\n",
       "      <th>2</th>\n",
       "      <td>2023-07-30</td>\n",
       "      <td>29281.730469</td>\n",
       "      <td>29354.158203</td>\n",
       "      <td>29446.589844</td>\n",
       "      <td>29054.486328</td>\n",
       "    </tr>\n",
       "    <tr>\n",
       "      <th>3</th>\n",
       "      <td>2023-07-29</td>\n",
       "      <td>29353.509766</td>\n",
       "      <td>29315.023438</td>\n",
       "      <td>29400.103516</td>\n",
       "      <td>29256.910156</td>\n",
       "    </tr>\n",
       "    <tr>\n",
       "      <th>4</th>\n",
       "      <td>2023-07-28</td>\n",
       "      <td>29315.023438</td>\n",
       "      <td>29222.724609</td>\n",
       "      <td>29533.033203</td>\n",
       "      <td>29125.132812</td>\n",
       "    </tr>\n",
       "  </tbody>\n",
       "</table>\n",
       "</div>"
      ],
      "text/plain": [
       "        Date         close          open          high           low\n",
       "0 2023-08-01  29712.167969  29232.253906  29712.167969  28611.046875\n",
       "1 2023-07-31  29232.388672  29282.019531  29502.281250  29128.275391\n",
       "2 2023-07-30  29281.730469  29354.158203  29446.589844  29054.486328\n",
       "3 2023-07-29  29353.509766  29315.023438  29400.103516  29256.910156\n",
       "4 2023-07-28  29315.023438  29222.724609  29533.033203  29125.132812"
      ]
     },
     "execution_count": 11,
     "metadata": {},
     "output_type": "execute_result"
    }
   ],
   "source": [
    "data.head()"
   ]
  },
  {
   "cell_type": "code",
   "execution_count": 12,
   "id": "0521e3df",
   "metadata": {},
   "outputs": [],
   "source": [
    "data.set_index('Date', inplace=True)"
   ]
  },
  {
   "cell_type": "code",
   "execution_count": 13,
   "id": "1fde8512",
   "metadata": {},
   "outputs": [],
   "source": [
    "btc_prices = pd.DataFrame(data['close']).rename(columns={ 'close': 'Price' })"
   ]
  },
  {
   "cell_type": "code",
   "execution_count": 14,
   "id": "3b31619a",
   "metadata": {},
   "outputs": [
    {
     "data": {
      "text/html": [
       "<div>\n",
       "<style scoped>\n",
       "    .dataframe tbody tr th:only-of-type {\n",
       "        vertical-align: middle;\n",
       "    }\n",
       "\n",
       "    .dataframe tbody tr th {\n",
       "        vertical-align: top;\n",
       "    }\n",
       "\n",
       "    .dataframe thead th {\n",
       "        text-align: right;\n",
       "    }\n",
       "</style>\n",
       "<table border=\"1\" class=\"dataframe\">\n",
       "  <thead>\n",
       "    <tr style=\"text-align: right;\">\n",
       "      <th></th>\n",
       "      <th>Price</th>\n",
       "    </tr>\n",
       "    <tr>\n",
       "      <th>Date</th>\n",
       "      <th></th>\n",
       "    </tr>\n",
       "  </thead>\n",
       "  <tbody>\n",
       "    <tr>\n",
       "      <th>2023-08-01</th>\n",
       "      <td>29712.167969</td>\n",
       "    </tr>\n",
       "    <tr>\n",
       "      <th>2023-07-31</th>\n",
       "      <td>29232.388672</td>\n",
       "    </tr>\n",
       "    <tr>\n",
       "      <th>2023-07-30</th>\n",
       "      <td>29281.730469</td>\n",
       "    </tr>\n",
       "    <tr>\n",
       "      <th>2023-07-29</th>\n",
       "      <td>29353.509766</td>\n",
       "    </tr>\n",
       "    <tr>\n",
       "      <th>2023-07-28</th>\n",
       "      <td>29315.023438</td>\n",
       "    </tr>\n",
       "  </tbody>\n",
       "</table>\n",
       "</div>"
      ],
      "text/plain": [
       "                   Price\n",
       "Date                    \n",
       "2023-08-01  29712.167969\n",
       "2023-07-31  29232.388672\n",
       "2023-07-30  29281.730469\n",
       "2023-07-29  29353.509766\n",
       "2023-07-28  29315.023438"
      ]
     },
     "execution_count": 14,
     "metadata": {},
     "output_type": "execute_result"
    }
   ],
   "source": [
    "btc_prices.head()"
   ]
  },
  {
   "cell_type": "code",
   "execution_count": 15,
   "id": "d33fd9d5",
   "metadata": {},
   "outputs": [
    {
     "data": {
      "image/png": "[encoded data removed]",
      "text/plain": [
       "<Figure size 1000x700 with 1 Axes>"
      ]
     },
     "metadata": {},
     "output_type": "display_data"
    }
   ],
   "source": [
    "# Visualize closing prices\n",
    "import matplotlib.pyplot as plt\n",
    "\n",
    "btc_prices.plot(figsize=(10, 7))\n",
    "plt.ylabel('BTC Price')\n",
    "plt.title('Price of Bitcoin from Oct 2014 to Oct 2022', fontsize=16)\n",
    "plt.legend(fontsize=14);"
   ]
  },
  {
   "cell_type": "code",
   "execution_count": 16,
   "id": "f51d9e86",
   "metadata": {},
   "outputs": [
    {
     "data": {
      "text/html": [
       "<div>\n",
       "<style scoped>\n",
       "    .dataframe tbody tr th:only-of-type {\n",
       "        vertical-align: middle;\n",
       "    }\n",
       "\n",
       "    .dataframe tbody tr th {\n",
       "        vertical-align: top;\n",
       "    }\n",
       "\n",
       "    .dataframe thead th {\n",
       "        text-align: right;\n",
       "    }\n",
       "</style>\n",
       "<table border=\"1\" class=\"dataframe\">\n",
       "  <thead>\n",
       "    <tr style=\"text-align: right;\">\n",
       "      <th></th>\n",
       "      <th>Price</th>\n",
       "    </tr>\n",
       "    <tr>\n",
       "      <th>Date</th>\n",
       "      <th></th>\n",
       "    </tr>\n",
       "  </thead>\n",
       "  <tbody>\n",
       "    <tr>\n",
       "      <th>2013-10-01</th>\n",
       "      <td>140.300003</td>\n",
       "    </tr>\n",
       "    <tr>\n",
       "      <th>2013-10-02</th>\n",
       "      <td>123.000000</td>\n",
       "    </tr>\n",
       "    <tr>\n",
       "      <th>2013-10-03</th>\n",
       "      <td>130.990005</td>\n",
       "    </tr>\n",
       "    <tr>\n",
       "      <th>2013-10-04</th>\n",
       "      <td>136.820007</td>\n",
       "    </tr>\n",
       "    <tr>\n",
       "      <th>2013-10-05</th>\n",
       "      <td>136.699997</td>\n",
       "    </tr>\n",
       "  </tbody>\n",
       "</table>\n",
       "</div>"
      ],
      "text/plain": [
       "                 Price\n",
       "Date                  \n",
       "2013-10-01  140.300003\n",
       "2013-10-02  123.000000\n",
       "2013-10-03  130.990005\n",
       "2013-10-04  136.820007\n",
       "2013-10-05  136.699997"
      ]
     },
     "execution_count": 16,
     "metadata": {},
     "output_type": "execute_result"
    }
   ],
   "source": [
    "# Sort ascending order of prices\n",
    "btc_prices.sort_values('Date', inplace=True)\n",
    "btc_prices.head()"
   ]
  },
  {
   "cell_type": "code",
   "execution_count": 17,
   "id": "ae9f158d",
   "metadata": {},
   "outputs": [],
   "source": [
    "timesteps = btc_prices.index.to_numpy()\n",
    "prices = btc_prices['Price'].to_numpy()"
   ]
  },
  {
   "cell_type": "code",
   "execution_count": 18,
   "id": "c671c9ec",
   "metadata": {},
   "outputs": [
    {
     "data": {
      "text/plain": [
       "(array(['2013-10-01T00:00:00.000000000', '2013-10-02T00:00:00.000000000',\n",
       "        '2013-10-03T00:00:00.000000000', ...,\n",
       "        '2023-07-30T00:00:00.000000000', '2023-07-31T00:00:00.000000000',\n",
       "        '2023-08-01T00:00:00.000000000'], dtype='datetime64[ns]'),\n",
       " array([  140.30000305,   123.        ,   130.99000549, ...,\n",
       "        29281.73046875, 29232.38867188, 29712.16796875]))"
      ]
     },
     "execution_count": 18,
     "metadata": {},
     "output_type": "execute_result"
    }
   ],
   "source": [
    "timesteps, prices"
   ]
  },
  {
   "cell_type": "code",
   "execution_count": 19,
   "id": "81af47f3",
   "metadata": {},
   "outputs": [
    {
     "data": {
      "text/plain": [
       "((2873,), (719,), (2873,), (719,))"
      ]
     },
     "execution_count": 19,
     "metadata": {},
     "output_type": "execute_result"
    }
   ],
   "source": [
    "# Create sequential splits at a specified point (80% train, 20% test)\n",
    "split_size = int(.8 * len(prices))\n",
    "\n",
    "X_train, y_train = timesteps[:split_size], prices[:split_size]\n",
    "X_test, y_test = timesteps[split_size:], prices[split_size:]\n",
    "\n",
    "X_train.shape, X_test.shape, y_train.shape, y_test.shape"
   ]
  },
  {
   "cell_type": "code",
   "execution_count": 20,
   "id": "ee13c3f9",
   "metadata": {},
   "outputs": [],
   "source": [
    "# Create a helper plotting function\n",
    "def plot_time_series(timesteps, prices, format='.', start=0, end=None, label=None):\n",
    "    plt.plot(timesteps[start:end], prices[start:end], format, label=label)\n",
    "    plt.xlabel('Date')\n",
    "    plt.ylabel('Price')\n",
    "    if label:\n",
    "        plt.legend(fontsize=14)\n",
    "\n",
    "    # Display a grid for easier measurement readings\n",
    "    plt.grid(True)"
   ]
  },
  {
   "cell_type": "code",
   "execution_count": 21,
   "id": "6241d337",
   "metadata": {},
   "outputs": [
    {
     "data": {
      "image/png": "[encoded data removed]",
      "text/plain": [
       "<Figure size 640x480 with 1 Axes>"
      ]
     },
     "metadata": {},
     "output_type": "display_data"
    }
   ],
   "source": [
    "plot_time_series(X_train, y_train, label='Training data')\n",
    "plot_time_series(X_test, y_test, label='Test data')"
   ]
  },
  {
   "cell_type": "markdown",
   "id": "b4522dff",
   "metadata": {},
   "source": [
    "### Create windowed train & test sets"
   ]
  },
  {
   "cell_type": "markdown",
   "id": "4c73c30c",
   "metadata": {},
   "source": [
    "**Phase 01 - Horizon 1; Window 7**"
   ]
  },
  {
   "cell_type": "code",
   "execution_count": 22,
   "id": "e0a1fafc",
   "metadata": {},
   "outputs": [],
   "source": [
    "# predict 1 step at a time\n",
    "HORIZON = 1\n",
    "\n",
    "# use a week worth of timesteps to predict the horizon\n",
    "WINDOW_SIZE = 7"
   ]
  },
  {
   "cell_type": "code",
   "execution_count": 23,
   "id": "bf5b8858",
   "metadata": {},
   "outputs": [],
   "source": [
    "# Create function to label windowed data\n",
    "def get_labelled_windows(x, horizon=1):\n",
    "    return x[:, :-horizon], x[:, -horizon:]"
   ]
  },
  {
   "cell_type": "code",
   "execution_count": 24,
   "id": "243dfc20",
   "metadata": {},
   "outputs": [],
   "source": [
    "# Create a function to make windows across entire time series\n",
    "def make_windows(x, window_size=7, horizon=1):\n",
    "    # Create a window of specific window_size\n",
    "    window_step = np.expand_dims(np.arange(window_size + horizon), axis=0)\n",
    "    \n",
    "    # Create a 2D array of multiple window steps\n",
    "    window_indexes = window_step + np.expand_dims(np.arange(len(x) - (window_size + horizon - 1)), axis=0).T\n",
    "    \n",
    "    windowed_array = x[window_indexes]\n",
    "    \n",
    "    windows, labels = get_labelled_windows(windowed_array, horizon)\n",
    "    return windows, labels"
   ]
  },
  {
   "cell_type": "code",
   "execution_count": 25,
   "id": "2609aa60",
   "metadata": {},
   "outputs": [],
   "source": [
    "full_windows, full_labels = make_windows(prices, WINDOW_SIZE, HORIZON)"
   ]
  },
  {
   "cell_type": "code",
   "execution_count": 26,
   "id": "807180e8",
   "metadata": {},
   "outputs": [
    {
     "data": {
      "text/plain": [
       "(array([[  140.30000305,   123.        ,   130.99000549, ...,\n",
       "           136.69999695,   137.80000305,   135.80000305],\n",
       "        [  123.        ,   130.99000549,   136.82000732, ...,\n",
       "           137.80000305,   135.80000305,   136.49000549],\n",
       "        [  130.99000549,   136.82000732,   136.69999695, ...,\n",
       "           135.80000305,   136.49000549,   139.5       ],\n",
       "        ...,\n",
       "        [30085.9296875 , 29178.06445312, 29228.60742188, ...,\n",
       "         29222.72460938, 29315.0234375 , 29353.50976562],\n",
       "        [29178.06445312, 29228.60742188, 29352.23046875, ...,\n",
       "         29315.0234375 , 29353.50976562, 29281.73046875],\n",
       "        [29228.60742188, 29352.23046875, 29222.72460938, ...,\n",
       "         29353.50976562, 29281.73046875, 29232.38867188]]),\n",
       " array([[  136.49000549],\n",
       "        [  139.5       ],\n",
       "        [  140.41000366],\n",
       "        ...,\n",
       "        [29281.73046875],\n",
       "        [29232.38867188],\n",
       "        [29712.16796875]]))"
      ]
     },
     "execution_count": 26,
     "metadata": {},
     "output_type": "execute_result"
    }
   ],
   "source": [
    "full_windows, full_labels"
   ]
  },
  {
   "cell_type": "code",
   "execution_count": 27,
   "id": "41306e57",
   "metadata": {},
   "outputs": [],
   "source": [
    "def make_train_test_splits(windows, labels, test_split=.2):\n",
    "    split_size = int(len(windows) * (1 - test_split)) # 80%\n",
    "    train_windows = windows[:split_size]\n",
    "    train_labels = labels[:split_size]\n",
    "    test_windows = windows[split_size:]\n",
    "    test_labels = labels[split_size:]\n",
    "    return train_windows, test_windows, train_labels, test_labels"
   ]
  },
  {
   "cell_type": "code",
   "execution_count": 28,
   "id": "910333fe",
   "metadata": {},
   "outputs": [
    {
     "data": {
      "text/plain": [
       "(2868, 717, 2868, 717)"
      ]
     },
     "execution_count": 28,
     "metadata": {},
     "output_type": "execute_result"
    }
   ],
   "source": [
    "train_windows, test_windows, train_labels, test_labels = make_train_test_splits(full_windows, full_labels)\n",
    "len(train_windows), len(test_windows), len(train_labels), len(test_labels)"
   ]
  },
  {
   "cell_type": "markdown",
   "id": "38502fa8",
   "metadata": {},
   "source": [
    "### Attempt model training"
   ]
  },
  {
   "cell_type": "code",
   "execution_count": 29,
   "id": "137689b1",
   "metadata": {},
   "outputs": [
    {
     "name": "stderr",
     "output_type": "stream",
     "text": [
      "2023-09-10 12:57:44.647223: I tensorflow/compiler/xla/stream_executor/cuda/cuda_gpu_executor.cc:981] successful NUMA node read from SysFS had negative value (-1), but there must be at least one NUMA node, so returning NUMA node zero\n"
     ]
    },
    {
     "name": "stdout",
     "output_type": "stream",
     "text": [
      "WARNING:tensorflow:From /opt/conda/lib/python3.7/site-packages/tensorflow/python/autograph/pyct/static_analysis/liveness.py:83: Analyzer.lamba_check (from tensorflow.python.autograph.pyct.static_analysis.liveness) is deprecated and will be removed after 2023-09-23.\n",
      "Instructions for updating:\n",
      "Lambda fuctions will be no more assumed to be used in the statement where they are used, or at least in the same block. https://github.com/tensorflow/tensorflow/issues/56089\n"
     ]
    },
    {
     "name": "stderr",
     "output_type": "stream",
     "text": [
      "2023-09-10 12:57:44.718732: I tensorflow/compiler/xla/stream_executor/cuda/cuda_gpu_executor.cc:981] successful NUMA node read from SysFS had negative value (-1), but there must be at least one NUMA node, so returning NUMA node zero\n",
      "2023-09-10 12:57:44.720434: I tensorflow/compiler/xla/stream_executor/cuda/cuda_gpu_executor.cc:981] successful NUMA node read from SysFS had negative value (-1), but there must be at least one NUMA node, so returning NUMA node zero\n",
      "2023-09-10 12:57:44.724827: I tensorflow/core/platform/cpu_feature_guard.cc:193] This TensorFlow binary is optimized with oneAPI Deep Neural Network Library (oneDNN) to use the following CPU instructions in performance-critical operations:  AVX2 FMA\n",
      "To enable them in other operations, rebuild TensorFlow with the appropriate compiler flags.\n",
      "2023-09-10 12:57:44.727654: I tensorflow/compiler/xla/stream_executor/cuda/cuda_gpu_executor.cc:981] successful NUMA node read from SysFS had negative value (-1), but there must be at least one NUMA node, so returning NUMA node zero\n",
      "2023-09-10 12:57:44.729306: I tensorflow/compiler/xla/stream_executor/cuda/cuda_gpu_executor.cc:981] successful NUMA node read from SysFS had negative value (-1), but there must be at least one NUMA node, so returning NUMA node zero\n",
      "2023-09-10 12:57:44.730875: I tensorflow/compiler/xla/stream_executor/cuda/cuda_gpu_executor.cc:981] successful NUMA node read from SysFS had negative value (-1), but there must be at least one NUMA node, so returning NUMA node zero\n",
      "2023-09-10 12:57:46.722735: I tensorflow/compiler/xla/stream_executor/cuda/cuda_gpu_executor.cc:981] successful NUMA node read from SysFS had negative value (-1), but there must be at least one NUMA node, so returning NUMA node zero\n",
      "2023-09-10 12:57:46.736329: I tensorflow/compiler/xla/stream_executor/cuda/cuda_gpu_executor.cc:981] successful NUMA node read from SysFS had negative value (-1), but there must be at least one NUMA node, so returning NUMA node zero\n",
      "2023-09-10 12:57:46.738030: I tensorflow/compiler/xla/stream_executor/cuda/cuda_gpu_executor.cc:981] successful NUMA node read from SysFS had negative value (-1), but there must be at least one NUMA node, so returning NUMA node zero\n",
      "2023-09-10 12:57:46.743828: I tensorflow/core/common_runtime/gpu/gpu_device.cc:1613] Created device /job:localhost/replica:0/task:0/device:GPU:0 with 13582 MB memory:  -> device: 0, name: Tesla T4, pci bus id: 0000:00:04.0, compute capability: 7.5\n"
     ]
    }
   ],
   "source": [
    "model = tf.keras.Sequential([\n",
    "    tf.keras.layers.Input(shape=(WINDOW_SIZE)),\n",
    "    \n",
    "    # Expand dimensions to align with required input shape\n",
    "    tf.keras.layers.Lambda(lambda x: tf.expand_dims(x, axis=1)),\n",
    "    tf.keras.layers.RNN(LTSCell(32), time_major=True),\n",
    "    tf.keras.layers.Dense(HORIZON, activation='linear')\n",
    "])"
   ]
  },
  {
   "cell_type": "code",
   "execution_count": 30,
   "id": "619c2326",
   "metadata": {},
   "outputs": [
    {
     "name": "stdout",
     "output_type": "stream",
     "text": [
      "Model: \"sequential\"\n",
      "_________________________________________________________________\n",
      " Layer (type)                Output Shape              Param #   \n",
      "=================================================================\n",
      " lambda (Lambda)             (None, 1, 7)              0         \n",
      "                                                                 \n",
      " rnn (RNN)                   (1, 32)                   5072      \n",
      "                                                                 \n",
      " dense (Dense)               (1, 1)                    33        \n",
      "                                                                 \n",
      "=================================================================\n",
      "Total params: 5,105\n",
      "Trainable params: 5,105\n",
      "Non-trainable params: 0\n",
      "_________________________________________________________________\n"
     ]
    }
   ],
   "source": [
    "model.summary()"
   ]
  },
  {
   "cell_type": "code",
   "execution_count": 31,
   "id": "9d818069",
   "metadata": {},
   "outputs": [
    {
     "name": "stdout",
     "output_type": "stream",
     "text": [
      "Epoch 1/10\n"
     ]
    },
    {
     "name": "stderr",
     "output_type": "stream",
     "text": [
      "2023-09-10 12:58:08.965822: I tensorflow/compiler/xla/service/service.cc:173] XLA service 0x55e20d4422b0 initialized for platform CUDA (this does not guarantee that XLA will be used). Devices:\n",
      "2023-09-10 12:58:08.965870: I tensorflow/compiler/xla/service/service.cc:181]   StreamExecutor device (0): Tesla T4, Compute Capability 7.5\n",
      "2023-09-10 12:58:09.179835: I tensorflow/compiler/mlir/tensorflow/utils/dump_mlir_util.cc:268] disabling MLIR crash reproducer, set env var `MLIR_CRASH_REPRODUCER_DIRECTORY` to enable.\n",
      "2023-09-10 12:58:10.677252: I tensorflow/compiler/jit/xla_compilation_cache.cc:477] Compiled cluster using XLA!  This line is logged at most once for the lifetime of the process.\n"
     ]
    },
    {
     "name": "stdout",
     "output_type": "stream",
     "text": [
      "90/90 [==============================] - 66s 467ms/step - loss: 6893.5591 - mae: 6893.5591 - mse: 170733536.0000\n",
      "Epoch 2/10\n",
      "90/90 [==============================] - 44s 491ms/step - loss: 6785.3481 - mae: 6785.3481 - mse: 159206592.0000\n",
      "Epoch 3/10\n",
      "90/90 [==============================] - 44s 489ms/step - loss: 6782.9497 - mae: 6782.9497 - mse: 158658144.0000\n",
      "Epoch 4/10\n",
      "90/90 [==============================] - 44s 491ms/step - loss: 6778.4312 - mae: 6778.4312 - mse: 158521296.0000\n",
      "Epoch 5/10\n",
      "90/90 [==============================] - 42s 465ms/step - loss: 6793.9287 - mae: 6793.9287 - mse: 160704224.0000\n",
      "Epoch 6/10\n",
      "90/90 [==============================] - 44s 491ms/step - loss: 6776.5566 - mae: 6776.5566 - mse: 159017632.0000\n",
      "Epoch 7/10\n",
      "90/90 [==============================] - 44s 490ms/step - loss: 6788.2642 - mae: 6788.2642 - mse: 159959936.0000\n",
      "Epoch 8/10\n",
      "90/90 [==============================] - 42s 466ms/step - loss: 6783.9463 - mae: 6783.9463 - mse: 158630816.0000\n",
      "Epoch 9/10\n",
      "90/90 [==============================] - 44s 488ms/step - loss: 6774.0229 - mae: 6774.0229 - mse: 156469616.0000\n",
      "Epoch 10/10\n",
      "90/90 [==============================] - 44s 488ms/step - loss: 6798.7529 - mae: 6798.7529 - mse: 162522320.0000\n"
     ]
    }
   ],
   "source": [
    "model.compile(\n",
    "    optimizer = tf.keras.optimizers.Adam(\n",
    "        learning_rate = .01,\n",
    "        clipvalue=.5\n",
    "    ),\n",
    "    loss = tf.keras.losses.MAE,\n",
    "    metrics = ['mae', 'mse']\n",
    ")\n",
    "\n",
    "history_1 = model.fit(\n",
    "    train_windows,\n",
    "    train_labels,\n",
    "    epochs=10,\n",
    ")"
   ]
  },
  {
   "cell_type": "markdown",
   "id": "7e385c6d",
   "metadata": {},
   "source": [
    "Gradient explosion occurs - Add LSTM layer"
   ]
  },
  {
   "cell_type": "markdown",
   "id": "bc9ff514",
   "metadata": {},
   "source": [
    "### Experiments\n",
    "train for less number of epochs for faster experimentation"
   ]
  },
  {
   "cell_type": "markdown",
   "id": "ae0c934f",
   "metadata": {},
   "source": [
    "**Model 2 - LTS, LSTM - activation tanh**"
   ]
  },
  {
   "cell_type": "code",
   "execution_count": 32,
   "id": "2839a801",
   "metadata": {},
   "outputs": [],
   "source": [
    "model_2 = tf.keras.Sequential([\n",
    "    tf.keras.layers.Input(shape=(WINDOW_SIZE)),\n",
    "    tf.keras.layers.Lambda(lambda x: tf.expand_dims(x, axis=1)),\n",
    "    tf.keras.layers.RNN(LTSCell(128), time_major=True, return_sequences=True),\n",
    "    tf.keras.layers.LSTM(128),\n",
    "    tf.keras.layers.Dense(HORIZON, activation='linear')\n",
    "])"
   ]
  },
  {
   "cell_type": "code",
   "execution_count": 33,
   "id": "4e98bf5f",
   "metadata": {},
   "outputs": [],
   "source": [
    "model_2.compile(\n",
    "    optimizer = tf.keras.optimizers.Adam(learning_rate = .01),\n",
    "    loss = tf.keras.losses.MAE,\n",
    "    metrics = ['mae', 'mse']\n",
    ")"
   ]
  },
  {
   "cell_type": "code",
   "execution_count": 34,
   "id": "dc333126",
   "metadata": {
    "scrolled": true
   },
   "outputs": [
    {
     "name": "stdout",
     "output_type": "stream",
     "text": [
      "Epoch 1/10\n"
     ]
    },
    {
     "name": "stderr",
     "output_type": "stream",
     "text": [
      "2023-09-10 13:05:46.001679: I tensorflow/compiler/xla/stream_executor/cuda/cuda_dnn.cc:428] Loaded cuDNN version 8200\n"
     ]
    },
    {
     "name": "stdout",
     "output_type": "stream",
     "text": [
      "90/90 [==============================] - 67s 514ms/step - loss: 7462.5190 - mae: 7462.5190 - mse: 198685104.0000\n",
      "Epoch 2/10\n",
      "90/90 [==============================] - 46s 512ms/step - loss: 7413.8027 - mae: 7413.8027 - mse: 197959504.0000\n",
      "Epoch 3/10\n",
      "90/90 [==============================] - 46s 513ms/step - loss: 7365.4604 - mae: 7365.4604 - mse: 197252736.0000\n",
      "Epoch 4/10\n",
      "90/90 [==============================] - 44s 492ms/step - loss: 7317.7314 - mae: 7317.7314 - mse: 196545888.0000\n",
      "Epoch 5/10\n",
      "90/90 [==============================] - 46s 512ms/step - loss: 7271.2349 - mae: 7271.2349 - mse: 195846544.0000\n",
      "Epoch 6/10\n",
      "90/90 [==============================] - 46s 515ms/step - loss: 7231.9478 - mae: 7231.9478 - mse: 195195792.0000\n",
      "Epoch 7/10\n",
      "90/90 [==============================] - 46s 512ms/step - loss: 7199.3047 - mae: 7199.3047 - mse: 194603968.0000\n",
      "Epoch 8/10\n",
      "90/90 [==============================] - 44s 490ms/step - loss: 7169.5215 - mae: 7169.5215 - mse: 194029056.0000\n",
      "Epoch 9/10\n",
      "90/90 [==============================] - 46s 514ms/step - loss: 7142.5635 - mae: 7142.5635 - mse: 193468640.0000\n",
      "Epoch 10/10\n",
      "90/90 [==============================] - 46s 515ms/step - loss: 7119.2734 - mae: 7119.2734 - mse: 192964416.0000\n"
     ]
    }
   ],
   "source": [
    "history_2 = model_2.fit(\n",
    "    train_windows,\n",
    "    train_labels,\n",
    "    epochs=10,\n",
    ")"
   ]
  },
  {
   "cell_type": "markdown",
   "id": "b8ad165f",
   "metadata": {},
   "source": [
    "**Model 3 - LTS, LSTM - activation relu**"
   ]
  },
  {
   "cell_type": "code",
   "execution_count": 35,
   "id": "20d1440c",
   "metadata": {},
   "outputs": [
    {
     "name": "stdout",
     "output_type": "stream",
     "text": [
      "WARNING:tensorflow:Layer lstm_1 will not use cuDNN kernels since it doesn't meet the criteria. It will use a generic GPU kernel as fallback when running on GPU.\n"
     ]
    }
   ],
   "source": [
    "model_3 = tf.keras.Sequential([\n",
    "    tf.keras.layers.Input(shape=(WINDOW_SIZE)),\n",
    "    tf.keras.layers.Lambda(lambda x: tf.expand_dims(x, axis=1)),\n",
    "    tf.keras.layers.RNN(LTSCell(128), time_major=True, return_sequences=True),\n",
    "    tf.keras.layers.LSTM(128, activation='relu'),\n",
    "    tf.keras.layers.Dense(HORIZON, activation='linear')\n",
    "])"
   ]
  },
  {
   "cell_type": "code",
   "execution_count": 36,
   "id": "858624b8",
   "metadata": {},
   "outputs": [],
   "source": [
    "model_3.compile(\n",
    "    optimizer = tf.keras.optimizers.Adam(learning_rate = .01),\n",
    "    loss = tf.keras.losses.MAE,\n",
    "    metrics = ['mae', 'mse']\n",
    ")"
   ]
  },
  {
   "cell_type": "code",
   "execution_count": 37,
   "id": "25792eac",
   "metadata": {},
   "outputs": [
    {
     "name": "stdout",
     "output_type": "stream",
     "text": [
      "Epoch 1/10\n",
      "90/90 [==============================] - 64s 512ms/step - loss: 6888.3447 - mae: 6888.3447 - mse: 169146000.0000\n",
      "Epoch 2/10\n",
      "90/90 [==============================] - 46s 512ms/step - loss: 6880.3633 - mae: 6880.3633 - mse: 171088144.0000\n",
      "Epoch 3/10\n",
      "90/90 [==============================] - 44s 488ms/step - loss: 6884.0015 - mae: 6884.0015 - mse: 169004416.0000\n",
      "Epoch 4/10\n",
      "90/90 [==============================] - 46s 511ms/step - loss: 6848.3237 - mae: 6848.3237 - mse: 165710864.0000\n",
      "Epoch 5/10\n",
      "90/90 [==============================] - 46s 510ms/step - loss: 6826.2202 - mae: 6826.2202 - mse: 165447504.0000\n",
      "Epoch 6/10\n",
      "90/90 [==============================] - 46s 510ms/step - loss: 6838.7656 - mae: 6838.7656 - mse: 166126320.0000\n",
      "Epoch 7/10\n",
      "90/90 [==============================] - 45s 499ms/step - loss: 6809.0142 - mae: 6809.0142 - mse: 164104288.0000\n",
      "Epoch 8/10\n",
      "90/90 [==============================] - 44s 484ms/step - loss: 6828.7983 - mae: 6828.7983 - mse: 167634752.0000\n",
      "Epoch 9/10\n",
      "90/90 [==============================] - 45s 502ms/step - loss: 6862.7295 - mae: 6862.7295 - mse: 165715824.0000\n",
      "Epoch 10/10\n",
      "90/90 [==============================] - 45s 502ms/step - loss: 6822.1934 - mae: 6822.1934 - mse: 163348368.0000\n"
     ]
    }
   ],
   "source": [
    "history_3 = model_3.fit(\n",
    "    train_windows,\n",
    "    train_labels,\n",
    "    epochs=10,\n",
    ")"
   ]
  },
  {
   "cell_type": "markdown",
   "id": "358ea3da",
   "metadata": {},
   "source": [
    "LSTM with ReLU activation performs better - moving forward with ReLU"
   ]
  },
  {
   "cell_type": "markdown",
   "id": "3abba21e",
   "metadata": {},
   "source": [
    "**Model 4 - Two LTS layers, LSTM**"
   ]
  },
  {
   "cell_type": "code",
   "execution_count": 38,
   "id": "20f5adfc",
   "metadata": {},
   "outputs": [
    {
     "name": "stdout",
     "output_type": "stream",
     "text": [
      "WARNING:tensorflow:Layer lstm_2 will not use cuDNN kernels since it doesn't meet the criteria. It will use a generic GPU kernel as fallback when running on GPU.\n"
     ]
    }
   ],
   "source": [
    "model_4 = tf.keras.Sequential([\n",
    "    tf.keras.layers.Input(shape=(WINDOW_SIZE)),\n",
    "    tf.keras.layers.Lambda(lambda x: tf.expand_dims(x, axis=1)),\n",
    "    tf.keras.layers.RNN(LTSCell(128), time_major=True, return_sequences=True),\n",
    "    tf.keras.layers.RNN(LTSCell(128), time_major=True, return_sequences=True),\n",
    "    tf.keras.layers.LSTM(128, activation='relu'),\n",
    "    tf.keras.layers.Dense(HORIZON, activation='linear')\n",
    "])"
   ]
  },
  {
   "cell_type": "code",
   "execution_count": 39,
   "id": "2666705e",
   "metadata": {},
   "outputs": [],
   "source": [
    "model_4.compile(\n",
    "    optimizer = tf.keras.optimizers.Adam(learning_rate = .01),\n",
    "    loss = tf.keras.losses.MAE,\n",
    "    metrics = ['mae', 'mse']\n",
    ")"
   ]
  },
  {
   "cell_type": "code",
   "execution_count": 40,
   "id": "6db49b7c",
   "metadata": {},
   "outputs": [
    {
     "name": "stdout",
     "output_type": "stream",
     "text": [
      "Epoch 1/10\n",
      "90/90 [==============================] - 127s 1s/step - loss: 6940.3711 - mae: 6940.3711 - mse: 172123968.0000\n",
      "Epoch 2/10\n",
      "90/90 [==============================] - 89s 989ms/step - loss: 6946.7847 - mae: 6946.7847 - mse: 172754368.0000\n",
      "Epoch 3/10\n",
      "90/90 [==============================] - 91s 1s/step - loss: 6902.0215 - mae: 6902.0215 - mse: 169984384.0000\n",
      "Epoch 4/10\n",
      "90/90 [==============================] - 89s 988ms/step - loss: 6947.1665 - mae: 6947.1665 - mse: 173420064.0000\n",
      "Epoch 5/10\n",
      "90/90 [==============================] - 91s 1s/step - loss: 6898.2607 - mae: 6898.2607 - mse: 171056736.0000\n",
      "Epoch 6/10\n",
      "90/90 [==============================] - 89s 992ms/step - loss: 6896.0864 - mae: 6896.0864 - mse: 169967264.0000\n",
      "Epoch 7/10\n",
      "90/90 [==============================] - 91s 1s/step - loss: 6918.1348 - mae: 6918.1348 - mse: 170784640.0000\n",
      "Epoch 8/10\n",
      "90/90 [==============================] - 89s 988ms/step - loss: 6893.2202 - mae: 6893.2202 - mse: 170904688.0000\n",
      "Epoch 9/10\n",
      "90/90 [==============================] - 91s 1s/step - loss: 6925.6406 - mae: 6925.6406 - mse: 171869696.0000\n",
      "Epoch 10/10\n",
      "90/90 [==============================] - 88s 982ms/step - loss: 6851.4575 - mae: 6851.4575 - mse: 169214896.0000\n"
     ]
    }
   ],
   "source": [
    "history_4 = model_4.fit(\n",
    "    train_windows,\n",
    "    train_labels,\n",
    "    epochs=10,\n",
    ")"
   ]
  },
  {
   "cell_type": "markdown",
   "id": "472408fb",
   "metadata": {},
   "source": [
    "Seems like more LTC cells do not make a difference"
   ]
  },
  {
   "cell_type": "markdown",
   "id": "94577949",
   "metadata": {},
   "source": [
    "**Model 5 - LTS, Two LSTM layers**"
   ]
  },
  {
   "cell_type": "code",
   "execution_count": 41,
   "id": "5e2081e8",
   "metadata": {},
   "outputs": [
    {
     "name": "stdout",
     "output_type": "stream",
     "text": [
      "WARNING:tensorflow:Layer lstm_3 will not use cuDNN kernels since it doesn't meet the criteria. It will use a generic GPU kernel as fallback when running on GPU.\n",
      "WARNING:tensorflow:Layer lstm_4 will not use cuDNN kernels since it doesn't meet the criteria. It will use a generic GPU kernel as fallback when running on GPU.\n"
     ]
    }
   ],
   "source": [
    "model_5 = tf.keras.Sequential([\n",
    "    tf.keras.layers.Input(shape=(WINDOW_SIZE)),\n",
    "    tf.keras.layers.Lambda(lambda x: tf.expand_dims(x, axis=1)),\n",
    "    tf.keras.layers.RNN(LTSCell(128), time_major=True, return_sequences=True),\n",
    "    tf.keras.layers.LSTM(128, activation='relu', time_major=True, return_sequences=True),\n",
    "    tf.keras.layers.LSTM(128, activation='relu'),\n",
    "    tf.keras.layers.Dense(HORIZON, activation='linear')\n",
    "])"
   ]
  },
  {
   "cell_type": "code",
   "execution_count": 42,
   "id": "c0187aaa",
   "metadata": {},
   "outputs": [],
   "source": [
    "model_5.compile(\n",
    "    optimizer = tf.keras.optimizers.Adam(learning_rate = .01),\n",
    "    loss = tf.keras.losses.MAE,\n",
    "    metrics = ['mae', 'mse']\n",
    ")"
   ]
  },
  {
   "cell_type": "code",
   "execution_count": 43,
   "id": "ce50778d",
   "metadata": {},
   "outputs": [
    {
     "name": "stdout",
     "output_type": "stream",
     "text": [
      "Epoch 1/10\n",
      "90/90 [==============================] - 66s 502ms/step - loss: 7133.1787 - mae: 7133.1787 - mse: 180853280.0000\n",
      "Epoch 2/10\n",
      "90/90 [==============================] - 47s 524ms/step - loss: 6877.8848 - mae: 6877.8848 - mse: 169219200.0000\n",
      "Epoch 3/10\n",
      "90/90 [==============================] - 46s 515ms/step - loss: 6826.9614 - mae: 6826.9614 - mse: 165142944.0000\n",
      "Epoch 4/10\n",
      "90/90 [==============================] - 46s 509ms/step - loss: 6988.9810 - mae: 6988.9810 - mse: 171005856.0000\n",
      "Epoch 5/10\n",
      "90/90 [==============================] - 45s 505ms/step - loss: 6926.8325 - mae: 6926.8325 - mse: 172134800.0000\n",
      "Epoch 6/10\n",
      "90/90 [==============================] - 44s 488ms/step - loss: 6859.1304 - mae: 6859.1304 - mse: 170289040.0000\n",
      "Epoch 7/10\n",
      "90/90 [==============================] - 46s 512ms/step - loss: 6910.6729 - mae: 6910.6729 - mse: 169453040.0000\n",
      "Epoch 8/10\n",
      "90/90 [==============================] - 46s 507ms/step - loss: 6854.4302 - mae: 6854.4302 - mse: 170132704.0000\n",
      "Epoch 9/10\n",
      "90/90 [==============================] - 46s 512ms/step - loss: 6873.7476 - mae: 6873.7476 - mse: 168561728.0000\n",
      "Epoch 10/10\n",
      "90/90 [==============================] - 44s 487ms/step - loss: 6895.9888 - mae: 6895.9888 - mse: 169317360.0000\n"
     ]
    }
   ],
   "source": [
    "history_5 = model_5.fit(\n",
    "    train_windows,\n",
    "    train_labels,\n",
    "    epochs=10,\n",
    ")"
   ]
  },
  {
   "cell_type": "markdown",
   "id": "fd7d73df",
   "metadata": {},
   "source": [
    "More LSTM layers do not make a difference either"
   ]
  },
  {
   "cell_type": "markdown",
   "id": "2a44f074",
   "metadata": {},
   "source": [
    "**Model 6 - Two LTS layers, Two LSTM layers**"
   ]
  },
  {
   "cell_type": "code",
   "execution_count": 44,
   "id": "0839dd65",
   "metadata": {},
   "outputs": [
    {
     "name": "stdout",
     "output_type": "stream",
     "text": [
      "WARNING:tensorflow:Layer lstm_5 will not use cuDNN kernels since it doesn't meet the criteria. It will use a generic GPU kernel as fallback when running on GPU.\n",
      "WARNING:tensorflow:Layer lstm_6 will not use cuDNN kernels since it doesn't meet the criteria. It will use a generic GPU kernel as fallback when running on GPU.\n"
     ]
    }
   ],
   "source": [
    "model_6 = tf.keras.Sequential([\n",
    "    tf.keras.layers.Input(shape=(WINDOW_SIZE)),\n",
    "    tf.keras.layers.Lambda(lambda x: tf.expand_dims(x, axis=1)),\n",
    "    tf.keras.layers.RNN(LTSCell(128), time_major=True, return_sequences=True),\n",
    "    tf.keras.layers.RNN(LTSCell(128), time_major=True, return_sequences=True),\n",
    "    tf.keras.layers.LSTM(128, activation='relu', time_major=True, return_sequences=True),\n",
    "    tf.keras.layers.LSTM(128, activation='relu'),\n",
    "    tf.keras.layers.Dense(HORIZON, activation='linear')\n",
    "])"
   ]
  },
  {
   "cell_type": "code",
   "execution_count": 45,
   "id": "42777e90",
   "metadata": {},
   "outputs": [],
   "source": [
    "model_6.compile(\n",
    "    optimizer = tf.keras.optimizers.Adam(learning_rate = .01),\n",
    "    loss = tf.keras.losses.MAE,\n",
    "    metrics = ['mae', 'mse']\n",
    ")"
   ]
  },
  {
   "cell_type": "code",
   "execution_count": 46,
   "id": "cd583a98",
   "metadata": {},
   "outputs": [
    {
     "name": "stdout",
     "output_type": "stream",
     "text": [
      "Epoch 1/10\n",
      "90/90 [==============================] - 133s 1s/step - loss: 7726.3760 - mae: 7726.3760 - mse: 207947376.0000\n",
      "Epoch 2/10\n",
      "90/90 [==============================] - 91s 1s/step - loss: 6915.7461 - mae: 6915.7461 - mse: 173516848.0000\n",
      "Epoch 3/10\n",
      "90/90 [==============================] - 93s 1s/step - loss: 6869.1108 - mae: 6869.1108 - mse: 171252448.0000\n",
      "Epoch 4/10\n",
      "90/90 [==============================] - 91s 1s/step - loss: 6829.2202 - mae: 6829.2202 - mse: 164987424.0000\n",
      "Epoch 5/10\n",
      "90/90 [==============================] - 93s 1s/step - loss: 6832.6602 - mae: 6832.6602 - mse: 166790384.0000\n",
      "Epoch 6/10\n",
      "90/90 [==============================] - 91s 1s/step - loss: 6813.1626 - mae: 6813.1626 - mse: 164174944.0000\n",
      "Epoch 7/10\n",
      "90/90 [==============================] - 93s 1s/step - loss: 6829.3550 - mae: 6829.3550 - mse: 163422272.0000\n",
      "Epoch 8/10\n",
      "90/90 [==============================] - 92s 1s/step - loss: 6820.6528 - mae: 6820.6528 - mse: 161782192.0000\n",
      "Epoch 9/10\n",
      "90/90 [==============================] - 95s 1s/step - loss: 6798.4771 - mae: 6798.4771 - mse: 164537424.0000\n",
      "Epoch 10/10\n",
      "90/90 [==============================] - 93s 1s/step - loss: 6813.0391 - mae: 6813.0391 - mse: 163406704.0000\n"
     ]
    }
   ],
   "source": [
    "history_6 = model_6.fit(\n",
    "    train_windows,\n",
    "    train_labels,\n",
    "    epochs=10,\n",
    ")"
   ]
  },
  {
   "cell_type": "markdown",
   "id": "9c005ee9",
   "metadata": {},
   "source": [
    "More  of both layers do not make a difference either - return to base"
   ]
  },
  {
   "cell_type": "markdown",
   "id": "e6d92723",
   "metadata": {},
   "source": [
    "### Tune hyperparameters\n",
    "\n",
    "Epochs and learning rate can be tuned by keras callbacks. Therefore, only batch size, optimization function, and hidden units are required to tune"
   ]
  },
  {
   "cell_type": "markdown",
   "id": "76d52892",
   "metadata": {},
   "source": [
    "**Update hidden units (multiples of 32 are preferred)**"
   ]
  },
  {
   "cell_type": "code",
   "execution_count": 47,
   "id": "176bc013",
   "metadata": {},
   "outputs": [
    {
     "name": "stdout",
     "output_type": "stream",
     "text": [
      "WARNING:tensorflow:Layer lstm_7 will not use cuDNN kernels since it doesn't meet the criteria. It will use a generic GPU kernel as fallback when running on GPU.\n"
     ]
    }
   ],
   "source": [
    "model_7 = tf.keras.Sequential([\n",
    "    tf.keras.layers.Input(shape=(WINDOW_SIZE)),\n",
    "    tf.keras.layers.Lambda(lambda x: tf.expand_dims(x, axis=1)),\n",
    "    tf.keras.layers.RNN(LTSCell(32), time_major=True, return_sequences=True),\n",
    "    tf.keras.layers.LSTM(32, activation='relu'),\n",
    "    tf.keras.layers.Dense(HORIZON, activation='linear')\n",
    "])"
   ]
  },
  {
   "cell_type": "code",
   "execution_count": 48,
   "id": "d8251252",
   "metadata": {},
   "outputs": [],
   "source": [
    "model_7.compile(\n",
    "    optimizer = tf.keras.optimizers.Adam(learning_rate = .01),\n",
    "    loss = tf.keras.losses.MAE,\n",
    "    metrics = ['mae', 'mse']\n",
    ")"
   ]
  },
  {
   "cell_type": "code",
   "execution_count": 49,
   "id": "3b4b66f7",
   "metadata": {},
   "outputs": [
    {
     "name": "stdout",
     "output_type": "stream",
     "text": [
      "Epoch 1/10\n",
      "90/90 [==============================] - 63s 486ms/step - loss: 6926.3047 - mae: 6926.3047 - mse: 172948816.0000\n",
      "Epoch 2/10\n",
      "90/90 [==============================] - 44s 481ms/step - loss: 6880.4526 - mae: 6880.4526 - mse: 169352944.0000\n",
      "Epoch 3/10\n",
      "90/90 [==============================] - 45s 495ms/step - loss: 6931.8506 - mae: 6931.8506 - mse: 172097680.0000\n",
      "Epoch 4/10\n",
      "90/90 [==============================] - 44s 494ms/step - loss: 6873.1992 - mae: 6873.1992 - mse: 171140624.0000\n",
      "Epoch 5/10\n",
      "90/90 [==============================] - 42s 472ms/step - loss: 6913.3325 - mae: 6913.3325 - mse: 172689936.0000\n",
      "Epoch 6/10\n",
      "90/90 [==============================] - 45s 499ms/step - loss: 6885.3081 - mae: 6885.3081 - mse: 168633824.0000\n",
      "Epoch 7/10\n",
      "90/90 [==============================] - 45s 498ms/step - loss: 6869.8892 - mae: 6869.8892 - mse: 169854320.0000\n",
      "Epoch 8/10\n",
      "90/90 [==============================] - 45s 498ms/step - loss: 37073.4805 - mae: 37073.4805 - mse: 142994423808.0000\n",
      "Epoch 9/10\n",
      "90/90 [==============================] - 43s 474ms/step - loss: 6869.2773 - mae: 6869.2773 - mse: 169320064.0000\n",
      "Epoch 10/10\n",
      "90/90 [==============================] - 45s 503ms/step - loss: 6886.1455 - mae: 6886.1455 - mse: 166716208.0000\n"
     ]
    }
   ],
   "source": [
    "history_7 = model_7.fit(\n",
    "    train_windows,\n",
    "    train_labels,\n",
    "    epochs=10,\n",
    ")"
   ]
  },
  {
   "cell_type": "markdown",
   "id": "26f4908b",
   "metadata": {},
   "source": [
    "128 and 32 is very similar - moving forward with 32 as it trains faster"
   ]
  },
  {
   "cell_type": "markdown",
   "id": "d396f6ed",
   "metadata": {},
   "source": [
    "**Update batch size**"
   ]
  },
  {
   "cell_type": "code",
   "execution_count": 50,
   "id": "690b1e19",
   "metadata": {},
   "outputs": [
    {
     "name": "stdout",
     "output_type": "stream",
     "text": [
      "WARNING:tensorflow:Layer lstm_8 will not use cuDNN kernels since it doesn't meet the criteria. It will use a generic GPU kernel as fallback when running on GPU.\n"
     ]
    }
   ],
   "source": [
    "model_8 = tf.keras.Sequential([\n",
    "    tf.keras.layers.Input(shape=(WINDOW_SIZE)),\n",
    "    tf.keras.layers.Lambda(lambda x: tf.expand_dims(x, axis=1)),\n",
    "    tf.keras.layers.RNN(LTSCell(32), time_major=True, return_sequences=True),\n",
    "    tf.keras.layers.LSTM(32, activation='relu'),\n",
    "    tf.keras.layers.Dense(HORIZON, activation='linear')\n",
    "])"
   ]
  },
  {
   "cell_type": "code",
   "execution_count": 51,
   "id": "c81e3b39",
   "metadata": {},
   "outputs": [],
   "source": [
    "model_8.compile(\n",
    "    optimizer = tf.keras.optimizers.Adam(learning_rate = .01),\n",
    "    loss = tf.keras.losses.MAE,\n",
    "    metrics = ['mae', 'mse']\n",
    ")"
   ]
  },
  {
   "cell_type": "code",
   "execution_count": 52,
   "id": "da5ecf0d",
   "metadata": {
    "tags": []
   },
   "outputs": [
    {
     "name": "stdout",
     "output_type": "stream",
     "text": [
      "Epoch 1/10\n",
      "23/23 [==============================] - 62s 2s/step - loss: 7050.2427 - mae: 7050.2427 - mse: 179967648.0000\n",
      "Epoch 2/10\n",
      "23/23 [==============================] - 45s 2s/step - loss: 6891.7690 - mae: 6891.7690 - mse: 172234976.0000\n",
      "Epoch 3/10\n",
      "23/23 [==============================] - 44s 2s/step - loss: 6909.8076 - mae: 6909.8076 - mse: 169613344.0000\n",
      "Epoch 4/10\n",
      "23/23 [==============================] - 42s 2s/step - loss: 6859.8906 - mae: 6859.8906 - mse: 168954752.0000\n",
      "Epoch 5/10\n",
      "23/23 [==============================] - 44s 2s/step - loss: 6878.2358 - mae: 6878.2358 - mse: 169209584.0000\n",
      "Epoch 6/10\n",
      "23/23 [==============================] - 44s 2s/step - loss: 6817.3042 - mae: 6817.3042 - mse: 165616448.0000\n",
      "Epoch 7/10\n",
      "23/23 [==============================] - 44s 2s/step - loss: 6930.7715 - mae: 6930.7715 - mse: 174194816.0000\n",
      "Epoch 8/10\n",
      "23/23 [==============================] - 42s 2s/step - loss: 6919.5732 - mae: 6919.5732 - mse: 169415856.0000\n",
      "Epoch 9/10\n",
      "23/23 [==============================] - 44s 2s/step - loss: 6900.5459 - mae: 6900.5459 - mse: 171439776.0000\n",
      "Epoch 10/10\n",
      "23/23 [==============================] - 44s 2s/step - loss: 6895.6499 - mae: 6895.6499 - mse: 168249952.0000\n"
     ]
    }
   ],
   "source": [
    "history_8 = model_8.fit(\n",
    "    train_windows,\n",
    "    train_labels,\n",
    "    batch_size=128,\n",
    "    epochs=10,\n",
    ")"
   ]
  },
  {
   "cell_type": "markdown",
   "id": "43e430ea",
   "metadata": {},
   "source": [
    "Issues with batch size 128, default 32 is better"
   ]
  },
  {
   "cell_type": "markdown",
   "id": "7e825e99",
   "metadata": {},
   "source": [
    "**Update window size**"
   ]
  },
  {
   "cell_type": "code",
   "execution_count": 53,
   "id": "d38ce0d5",
   "metadata": {},
   "outputs": [],
   "source": [
    "HORIZON = 1\n",
    "WINDOW_SIZE = 30"
   ]
  },
  {
   "cell_type": "code",
   "execution_count": 54,
   "id": "5c7aca0c",
   "metadata": {},
   "outputs": [
    {
     "data": {
      "text/plain": [
       "(2849, 713, 2849, 713)"
      ]
     },
     "execution_count": 54,
     "metadata": {},
     "output_type": "execute_result"
    }
   ],
   "source": [
    "full_windows, full_labels = make_windows(prices, WINDOW_SIZE, HORIZON)\n",
    "train_windows, test_windows, train_labels, test_labels = make_train_test_splits(full_windows, full_labels)\n",
    "len(train_windows), len(test_windows), len(train_labels), len(test_labels)"
   ]
  },
  {
   "cell_type": "code",
   "execution_count": 55,
   "id": "f097793e",
   "metadata": {},
   "outputs": [
    {
     "name": "stdout",
     "output_type": "stream",
     "text": [
      "WARNING:tensorflow:Layer lstm_9 will not use cuDNN kernels since it doesn't meet the criteria. It will use a generic GPU kernel as fallback when running on GPU.\n"
     ]
    }
   ],
   "source": [
    "model_9 = tf.keras.Sequential([\n",
    "    tf.keras.layers.Input(shape=(WINDOW_SIZE)),\n",
    "    tf.keras.layers.Lambda(lambda x: tf.expand_dims(x, axis=1)),\n",
    "    tf.keras.layers.RNN(LTSCell(32), time_major=True, return_sequences=True),\n",
    "    tf.keras.layers.LSTM(32, activation='relu'),\n",
    "    tf.keras.layers.Dense(HORIZON, activation='linear')\n",
    "])"
   ]
  },
  {
   "cell_type": "code",
   "execution_count": 56,
   "id": "438e1a7a",
   "metadata": {},
   "outputs": [],
   "source": [
    "model_9.compile(\n",
    "    optimizer = tf.keras.optimizers.Adam(learning_rate = .01),\n",
    "    loss = tf.keras.losses.MAE,\n",
    "    metrics = ['mae', 'mse']\n",
    ")"
   ]
  },
  {
   "cell_type": "code",
   "execution_count": 57,
   "id": "cd2bc27b",
   "metadata": {},
   "outputs": [
    {
     "name": "stdout",
     "output_type": "stream",
     "text": [
      "Epoch 1/10\n",
      "90/90 [==============================] - 64s 502ms/step - loss: 7118.9688 - mae: 7118.9688 - mse: 183480752.0000\n",
      "Epoch 2/10\n",
      "90/90 [==============================] - 46s 506ms/step - loss: 6963.3599 - mae: 6963.3599 - mse: 170675136.0000\n",
      "Epoch 3/10\n",
      "90/90 [==============================] - 43s 477ms/step - loss: 6945.8296 - mae: 6945.8296 - mse: 172977280.0000\n",
      "Epoch 4/10\n",
      "90/90 [==============================] - 44s 495ms/step - loss: 6969.1021 - mae: 6969.1021 - mse: 171922336.0000\n",
      "Epoch 5/10\n",
      "90/90 [==============================] - 45s 500ms/step - loss: 6992.6445 - mae: 6992.6445 - mse: 174226784.0000\n",
      "Epoch 6/10\n",
      "90/90 [==============================] - 44s 493ms/step - loss: 6982.1089 - mae: 6982.1089 - mse: 172568176.0000\n",
      "Epoch 7/10\n",
      "90/90 [==============================] - 43s 469ms/step - loss: 7020.1650 - mae: 7020.1650 - mse: 172886944.0000\n",
      "Epoch 8/10\n",
      "90/90 [==============================] - 44s 493ms/step - loss: 6976.3286 - mae: 6976.3286 - mse: 172658144.0000\n",
      "Epoch 9/10\n",
      "90/90 [==============================] - 45s 497ms/step - loss: 6931.3916 - mae: 6931.3916 - mse: 170460928.0000\n",
      "Epoch 10/10\n",
      "90/90 [==============================] - 42s 470ms/step - loss: 7009.2510 - mae: 7009.2510 - mse: 172900256.0000\n"
     ]
    }
   ],
   "source": [
    "history_9 = model_9.fit(\n",
    "    train_windows,\n",
    "    train_labels,\n",
    "    epochs=10,\n",
    ")"
   ]
  },
  {
   "cell_type": "markdown",
   "id": "ef87f97a",
   "metadata": {},
   "source": [
    "Window size of 7 is better"
   ]
  },
  {
   "cell_type": "markdown",
   "id": "9d7c9c8c",
   "metadata": {},
   "source": [
    "### Complete training"
   ]
  },
  {
   "cell_type": "markdown",
   "id": "c25830cf",
   "metadata": {},
   "source": [
    "**Create callback functions**"
   ]
  },
  {
   "cell_type": "code",
   "execution_count": 58,
   "id": "f66c8a13",
   "metadata": {},
   "outputs": [],
   "source": [
    "# Model checkpoint with a specific filename\n",
    "def create_model_checkpoint(model_name, save_path='model_checkpoints', monitor_dataset_loss=False):\n",
    "    return tf.keras.callbacks.ModelCheckpoint(\n",
    "        filepath=os.path.join(save_path, model_name),\n",
    "        verbose=0,\n",
    "        save_best_only=True,\n",
    "        #monitor='loss' if monitor_dataset_loss else 'val_loss',\n",
    "        monitor='loss'\n",
    "    )\n",
    "\n",
    "# Create a tensorboard callback\n",
    "def create_tensorboard_callback(dir_name, experiment_name):\n",
    "    log_dir = dir_name + '/' + experiment_name + '/' + datetime.datetime.now().strftime('%Y%m%d-%H%M%S')\n",
    "    tensorboard_callback = tf.keras.callbacks.TensorBoard(\n",
    "      log_dir=log_dir\n",
    "    )\n",
    "\n",
    "    print(f'Saving TensorBoard log files to: {log_dir}')\n",
    "    return tensorboard_callback\n",
    "\n",
    "# Create early stopping callback\n",
    "early_stopping = tf.keras.callbacks.EarlyStopping(\n",
    "    monitor='loss',\n",
    "    patience=200,\n",
    "    restore_best_weights=True\n",
    ")\n",
    "\n",
    "# create reduce lr on plateau callback\n",
    "reduce_lr_plateau = tf.keras.callbacks.ReduceLROnPlateau(\n",
    "    monitor='loss',\n",
    "    patience=100,\n",
    "    verbose=1\n",
    ")"
   ]
  },
  {
   "cell_type": "code",
   "execution_count": 59,
   "id": "c1d606ac",
   "metadata": {},
   "outputs": [],
   "source": [
    "HORIZON = 1\n",
    "WINDOW_SIZE = 7"
   ]
  },
  {
   "cell_type": "code",
   "execution_count": 60,
   "id": "75b67110",
   "metadata": {},
   "outputs": [
    {
     "data": {
      "text/plain": [
       "(2868, 717, 2868, 717)"
      ]
     },
     "execution_count": 60,
     "metadata": {},
     "output_type": "execute_result"
    }
   ],
   "source": [
    "full_windows, full_labels = make_windows(prices, WINDOW_SIZE, HORIZON)\n",
    "train_windows, test_windows, train_labels, test_labels = make_train_test_splits(full_windows, full_labels)\n",
    "len(train_windows), len(test_windows), len(train_labels), len(test_labels)"
   ]
  },
  {
   "cell_type": "code",
   "execution_count": 61,
   "id": "52aa8607",
   "metadata": {},
   "outputs": [
    {
     "name": "stdout",
     "output_type": "stream",
     "text": [
      "WARNING:tensorflow:Layer lstm_10 will not use cuDNN kernels since it doesn't meet the criteria. It will use a generic GPU kernel as fallback when running on GPU.\n"
     ]
    }
   ],
   "source": [
    "model_10 = tf.keras.Sequential([\n",
    "    tf.keras.layers.Input(shape=(WINDOW_SIZE)),\n",
    "    tf.keras.layers.Lambda(lambda x: tf.expand_dims(x, axis=1)),\n",
    "    tf.keras.layers.RNN(LTSCell(32), time_major=True, return_sequences=True),\n",
    "    tf.keras.layers.LSTM(32, activation='relu'),\n",
    "    tf.keras.layers.Dense(HORIZON, activation='linear')\n",
    "], name='model_10')"
   ]
  },
  {
   "cell_type": "code",
   "execution_count": 62,
   "id": "91d7d1d7",
   "metadata": {},
   "outputs": [],
   "source": [
    "model_10.compile(\n",
    "    optimizer = tf.keras.optimizers.Adam(learning_rate = .01),\n",
    "    loss = tf.keras.losses.MAE,\n",
    "    metrics = ['mae', 'mse']\n",
    ")"
   ]
  },
  {
   "cell_type": "code",
   "execution_count": 63,
   "id": "a60ea72d",
   "metadata": {},
   "outputs": [
    {
     "name": "stdout",
     "output_type": "stream",
     "text": [
      "Saving TensorBoard log files to: tensorboard_logs/tensorboard_logs_model_10/model_10/20230910-142359\n",
      "Epoch 1/250\n",
      "90/90 [==============================] - ETA: 0s - loss: 6939.6172 - mae: 6939.6172 - mse: 172377760.0000INFO:tensorflow:Unsupported signature for serialization: ((TensorSpec(shape=(7,), dtype=tf.float32, name='gradient'), <tensorflow.python.framework.func_graph.UnknownArgument object at 0x7eff44f0f710>, 139656178041680), {}).\n",
      "INFO:tensorflow:Unsupported signature for serialization: ((TensorSpec(shape=(7,), dtype=tf.float32, name='gradient'), <tensorflow.python.framework.func_graph.UnknownArgument object at 0x7eff44f26810>, 139656178106816), {}).\n",
      "INFO:tensorflow:Unsupported signature for serialization: ((TensorSpec(shape=(7,), dtype=tf.float32, name='gradient'), <tensorflow.python.framework.func_graph.UnknownArgument object at 0x7eff44f0f710>, 139656178041680), {}).\n",
      "INFO:tensorflow:Unsupported signature for serialization: ((TensorSpec(shape=(7,), dtype=tf.float32, name='gradient'), <tensorflow.python.framework.func_graph.UnknownArgument object at 0x7eff44f26810>, 139656178106816), {}).\n",
      "INFO:tensorflow:Assets written to: model_checkpoints/model_10/assets\n",
      "90/90 [==============================] - 70s 559ms/step - loss: 6939.6172 - mae: 6939.6172 - mse: 172377760.0000 - lr: 0.0100\n",
      "Epoch 2/250\n",
      "90/90 [==============================] - ETA: 0s - loss: 6874.2817 - mae: 6874.2817 - mse: 169580336.0000INFO:tensorflow:Unsupported signature for serialization: ((TensorSpec(shape=(7,), dtype=tf.float32, name='gradient'), <tensorflow.python.framework.func_graph.UnknownArgument object at 0x7eff44f0f710>, 139656178041680), {}).\n",
      "INFO:tensorflow:Unsupported signature for serialization: ((TensorSpec(shape=(7,), dtype=tf.float32, name='gradient'), <tensorflow.python.framework.func_graph.UnknownArgument object at 0x7eff44f26810>, 139656178106816), {}).\n",
      "INFO:tensorflow:Unsupported signature for serialization: ((TensorSpec(shape=(7,), dtype=tf.float32, name='gradient'), <tensorflow.python.framework.func_graph.UnknownArgument object at 0x7eff44f0f710>, 139656178041680), {}).\n",
      "INFO:tensorflow:Unsupported signature for serialization: ((TensorSpec(shape=(7,), dtype=tf.float32, name='gradient'), <tensorflow.python.framework.func_graph.UnknownArgument object at 0x7eff44f26810>, 139656178106816), {}).\n",
      "INFO:tensorflow:Assets written to: model_checkpoints/model_10/assets\n",
      "90/90 [==============================] - 47s 519ms/step - loss: 6874.2817 - mae: 6874.2817 - mse: 169580336.0000 - lr: 0.0100\n",
      "Epoch 3/250\n",
      "90/90 [==============================] - 45s 502ms/step - loss: 6877.9624 - mae: 6877.9624 - mse: 169217456.0000 - lr: 0.0100\n",
      "Epoch 4/250\n",
      "90/90 [==============================] - 45s 500ms/step - loss: 6907.1665 - mae: 6907.1665 - mse: 171940960.0000 - lr: 0.0100\n",
      "Epoch 5/250\n",
      "90/90 [==============================] - ETA: 0s - loss: 6859.9214 - mae: 6859.9214 - mse: 168427216.0000INFO:tensorflow:Unsupported signature for serialization: ((TensorSpec(shape=(7,), dtype=tf.float32, name='gradient'), <tensorflow.python.framework.func_graph.UnknownArgument object at 0x7eff44f0f710>, 139656178041680), {}).\n",
      "INFO:tensorflow:Unsupported signature for serialization: ((TensorSpec(shape=(7,), dtype=tf.float32, name='gradient'), <tensorflow.python.framework.func_graph.UnknownArgument object at 0x7eff44f26810>, 139656178106816), {}).\n",
      "INFO:tensorflow:Unsupported signature for serialization: ((TensorSpec(shape=(7,), dtype=tf.float32, name='gradient'), <tensorflow.python.framework.func_graph.UnknownArgument object at 0x7eff44f0f710>, 139656178041680), {}).\n",
      "INFO:tensorflow:Unsupported signature for serialization: ((TensorSpec(shape=(7,), dtype=tf.float32, name='gradient'), <tensorflow.python.framework.func_graph.UnknownArgument object at 0x7eff44f26810>, 139656178106816), {}).\n",
      "INFO:tensorflow:Assets written to: model_checkpoints/model_10/assets\n",
      "90/90 [==============================] - 49s 540ms/step - loss: 6859.9214 - mae: 6859.9214 - mse: 168427216.0000 - lr: 0.0100\n",
      "Epoch 6/250\n",
      "90/90 [==============================] - ETA: 0s - loss: 6854.5322 - mae: 6854.5322 - mse: 167987712.0000INFO:tensorflow:Unsupported signature for serialization: ((TensorSpec(shape=(7,), dtype=tf.float32, name='gradient'), <tensorflow.python.framework.func_graph.UnknownArgument object at 0x7eff44f0f710>, 139656178041680), {}).\n",
      "INFO:tensorflow:Unsupported signature for serialization: ((TensorSpec(shape=(7,), dtype=tf.float32, name='gradient'), <tensorflow.python.framework.func_graph.UnknownArgument object at 0x7eff44f26810>, 139656178106816), {}).\n",
      "INFO:tensorflow:Unsupported signature for serialization: ((TensorSpec(shape=(7,), dtype=tf.float32, name='gradient'), <tensorflow.python.framework.func_graph.UnknownArgument object at 0x7eff44f0f710>, 139656178041680), {}).\n",
      "INFO:tensorflow:Unsupported signature for serialization: ((TensorSpec(shape=(7,), dtype=tf.float32, name='gradient'), <tensorflow.python.framework.func_graph.UnknownArgument object at 0x7eff44f26810>, 139656178106816), {}).\n",
      "INFO:tensorflow:Assets written to: model_checkpoints/model_10/assets\n",
      "90/90 [==============================] - 49s 544ms/step - loss: 6854.5322 - mae: 6854.5322 - mse: 167987712.0000 - lr: 0.0100\n",
      "Epoch 7/250\n",
      "90/90 [==============================] - 44s 486ms/step - loss: 6855.9883 - mae: 6855.9883 - mse: 167006688.0000 - lr: 0.0100\n",
      "Epoch 8/250\n",
      "90/90 [==============================] - 45s 501ms/step - loss: 6874.8125 - mae: 6874.8125 - mse: 168665088.0000 - lr: 0.0100\n",
      "Epoch 9/250\n",
      "90/90 [==============================] - ETA: 0s - loss: 6848.0098 - mae: 6848.0098 - mse: 166816480.0000INFO:tensorflow:Unsupported signature for serialization: ((TensorSpec(shape=(7,), dtype=tf.float32, name='gradient'), <tensorflow.python.framework.func_graph.UnknownArgument object at 0x7eff44f0f710>, 139656178041680), {}).\n",
      "INFO:tensorflow:Unsupported signature for serialization: ((TensorSpec(shape=(7,), dtype=tf.float32, name='gradient'), <tensorflow.python.framework.func_graph.UnknownArgument object at 0x7eff44f26810>, 139656178106816), {}).\n",
      "INFO:tensorflow:Unsupported signature for serialization: ((TensorSpec(shape=(7,), dtype=tf.float32, name='gradient'), <tensorflow.python.framework.func_graph.UnknownArgument object at 0x7eff44f0f710>, 139656178041680), {}).\n",
      "INFO:tensorflow:Unsupported signature for serialization: ((TensorSpec(shape=(7,), dtype=tf.float32, name='gradient'), <tensorflow.python.framework.func_graph.UnknownArgument object at 0x7eff44f26810>, 139656178106816), {}).\n",
      "INFO:tensorflow:Assets written to: model_checkpoints/model_10/assets\n",
      "90/90 [==============================] - 49s 543ms/step - loss: 6848.0098 - mae: 6848.0098 - mse: 166816480.0000 - lr: 0.0100\n",
      "Epoch 10/250\n",
      "90/90 [==============================] - 45s 502ms/step - loss: 6856.3877 - mae: 6856.3877 - mse: 167583472.0000 - lr: 0.0100\n",
      "Epoch 11/250\n",
      "90/90 [==============================] - 43s 478ms/step - loss: 6883.2183 - mae: 6883.2183 - mse: 169789008.0000 - lr: 0.0100\n",
      "Epoch 12/250\n",
      "90/90 [==============================] - 46s 507ms/step - loss: 6852.0947 - mae: 6852.0947 - mse: 168426752.0000 - lr: 0.0100\n",
      "Epoch 13/250\n",
      "90/90 [==============================] - 46s 507ms/step - loss: 6867.5044 - mae: 6867.5044 - mse: 168211616.0000 - lr: 0.0100\n",
      "Epoch 14/250\n",
      "90/90 [==============================] - 46s 513ms/step - loss: 6894.2261 - mae: 6894.2261 - mse: 169838192.0000 - lr: 0.0100\n",
      "Epoch 15/250\n",
      "90/90 [==============================] - 44s 486ms/step - loss: 6906.7886 - mae: 6906.7886 - mse: 168748832.0000 - lr: 0.0100\n",
      "Epoch 16/250\n",
      "90/90 [==============================] - 46s 509ms/step - loss: 6854.4541 - mae: 6854.4541 - mse: 171024608.0000 - lr: 0.0100\n",
      "Epoch 17/250\n",
      "90/90 [==============================] - 46s 512ms/step - loss: 6861.8403 - mae: 6861.8403 - mse: 169187264.0000 - lr: 0.0100\n",
      "Epoch 18/250\n",
      "90/90 [==============================] - 46s 515ms/step - loss: 6880.7705 - mae: 6880.7705 - mse: 169014048.0000 - lr: 0.0100\n",
      "Epoch 19/250\n",
      "90/90 [==============================] - ETA: 0s - loss: 6803.5244 - mae: 6803.5244 - mse: 166176656.0000INFO:tensorflow:Unsupported signature for serialization: ((TensorSpec(shape=(7,), dtype=tf.float32, name='gradient'), <tensorflow.python.framework.func_graph.UnknownArgument object at 0x7eff44f0f710>, 139656178041680), {}).\n",
      "INFO:tensorflow:Unsupported signature for serialization: ((TensorSpec(shape=(7,), dtype=tf.float32, name='gradient'), <tensorflow.python.framework.func_graph.UnknownArgument object at 0x7eff44f26810>, 139656178106816), {}).\n",
      "INFO:tensorflow:Unsupported signature for serialization: ((TensorSpec(shape=(7,), dtype=tf.float32, name='gradient'), <tensorflow.python.framework.func_graph.UnknownArgument object at 0x7eff44f0f710>, 139656178041680), {}).\n",
      "INFO:tensorflow:Unsupported signature for serialization: ((TensorSpec(shape=(7,), dtype=tf.float32, name='gradient'), <tensorflow.python.framework.func_graph.UnknownArgument object at 0x7eff44f26810>, 139656178106816), {}).\n",
      "INFO:tensorflow:Assets written to: model_checkpoints/model_10/assets\n",
      "90/90 [==============================] - 47s 521ms/step - loss: 6803.5244 - mae: 6803.5244 - mse: 166176656.0000 - lr: 0.0100\n",
      "Epoch 20/250\n",
      "90/90 [==============================] - 46s 507ms/step - loss: 6868.8779 - mae: 6868.8779 - mse: 168824992.0000 - lr: 0.0100\n",
      "Epoch 21/250\n",
      "90/90 [==============================] - 45s 500ms/step - loss: 6842.3140 - mae: 6842.3140 - mse: 166641728.0000 - lr: 0.0100\n",
      "Epoch 22/250\n",
      "90/90 [==============================] - 45s 501ms/step - loss: 6815.2852 - mae: 6815.2852 - mse: 166195216.0000 - lr: 0.0100\n",
      "Epoch 23/250\n",
      "90/90 [==============================] - 43s 474ms/step - loss: 6843.4951 - mae: 6843.4951 - mse: 164797952.0000 - lr: 0.0100\n",
      "Epoch 24/250\n",
      "90/90 [==============================] - 45s 504ms/step - loss: 6897.6152 - mae: 6897.6152 - mse: 169109824.0000 - lr: 0.0100\n",
      "Epoch 25/250\n",
      "90/90 [==============================] - 45s 500ms/step - loss: 6912.8516 - mae: 6912.8516 - mse: 168908624.0000 - lr: 0.0100\n",
      "Epoch 26/250\n",
      "90/90 [==============================] - 44s 487ms/step - loss: 6840.9937 - mae: 6840.9937 - mse: 168325456.0000 - lr: 0.0100\n",
      "Epoch 27/250\n",
      "90/90 [==============================] - 42s 462ms/step - loss: 6811.5635 - mae: 6811.5635 - mse: 164318512.0000 - lr: 0.0100\n",
      "Epoch 28/250\n",
      "90/90 [==============================] - 44s 485ms/step - loss: 7015.0991 - mae: 7015.0991 - mse: 176968560.0000 - lr: 0.0100\n",
      "Epoch 29/250\n",
      "90/90 [==============================] - 44s 486ms/step - loss: 6870.7148 - mae: 6870.7148 - mse: 169070128.0000 - lr: 0.0100\n",
      "Epoch 30/250\n",
      "90/90 [==============================] - 41s 460ms/step - loss: 6881.0874 - mae: 6881.0874 - mse: 168767456.0000 - lr: 0.0100\n",
      "Epoch 31/250\n",
      "90/90 [==============================] - 44s 485ms/step - loss: 6892.0083 - mae: 6892.0083 - mse: 169352272.0000 - lr: 0.0100\n",
      "Epoch 32/250\n",
      "90/90 [==============================] - 43s 480ms/step - loss: 6886.6841 - mae: 6886.6841 - mse: 169443392.0000 - lr: 0.0100\n",
      "Epoch 33/250\n",
      "90/90 [==============================] - 43s 483ms/step - loss: 6896.1494 - mae: 6896.1494 - mse: 170812720.0000 - lr: 0.0100\n",
      "Epoch 34/250\n",
      "90/90 [==============================] - 41s 458ms/step - loss: 6870.4805 - mae: 6870.4805 - mse: 170733072.0000 - lr: 0.0100\n",
      "Epoch 35/250\n",
      "90/90 [==============================] - 44s 484ms/step - loss: 6892.8682 - mae: 6892.8682 - mse: 171823696.0000 - lr: 0.0100\n",
      "Epoch 36/250\n",
      "90/90 [==============================] - 43s 483ms/step - loss: 6875.8057 - mae: 6875.8057 - mse: 168257008.0000 - lr: 0.0100\n",
      "Epoch 37/250\n",
      "90/90 [==============================] - 42s 462ms/step - loss: 6845.8970 - mae: 6845.8970 - mse: 169551536.0000 - lr: 0.0100\n",
      "Epoch 38/250\n",
      "90/90 [==============================] - 43s 483ms/step - loss: 6888.5078 - mae: 6888.5078 - mse: 168316192.0000 - lr: 0.0100\n",
      "Epoch 39/250\n",
      "90/90 [==============================] - 43s 481ms/step - loss: 6853.2378 - mae: 6853.2378 - mse: 168218192.0000 - lr: 0.0100\n",
      "Epoch 40/250\n",
      "90/90 [==============================] - 43s 483ms/step - loss: 6893.3506 - mae: 6893.3506 - mse: 170150928.0000 - lr: 0.0100\n",
      "Epoch 41/250\n",
      "90/90 [==============================] - 41s 459ms/step - loss: 6879.9092 - mae: 6879.9092 - mse: 171011024.0000 - lr: 0.0100\n",
      "Epoch 42/250\n",
      "90/90 [==============================] - 44s 486ms/step - loss: 6873.2881 - mae: 6873.2881 - mse: 169244544.0000 - lr: 0.0100\n",
      "Epoch 43/250\n",
      "90/90 [==============================] - 43s 480ms/step - loss: 6856.2261 - mae: 6856.2261 - mse: 166773472.0000 - lr: 0.0100\n",
      "Epoch 44/250\n",
      "90/90 [==============================] - 42s 462ms/step - loss: 6861.0981 - mae: 6861.0981 - mse: 170915376.0000 - lr: 0.0100\n",
      "Epoch 45/250\n",
      "90/90 [==============================] - 43s 478ms/step - loss: 6825.0239 - mae: 6825.0239 - mse: 166294032.0000 - lr: 0.0100\n",
      "Epoch 46/250\n",
      "90/90 [==============================] - 43s 479ms/step - loss: 6857.2280 - mae: 6857.2280 - mse: 167533024.0000 - lr: 0.0100\n",
      "Epoch 47/250\n",
      "90/90 [==============================] - 43s 476ms/step - loss: 6890.4966 - mae: 6890.4966 - mse: 171058432.0000 - lr: 0.0100\n",
      "Epoch 48/250\n",
      "90/90 [==============================] - 41s 455ms/step - loss: 6872.2104 - mae: 6872.2104 - mse: 170749600.0000 - lr: 0.0100\n",
      "Epoch 49/250\n",
      "90/90 [==============================] - 43s 476ms/step - loss: 6856.9897 - mae: 6856.9897 - mse: 167767152.0000 - lr: 0.0100\n",
      "Epoch 50/250\n",
      "90/90 [==============================] - 43s 476ms/step - loss: 6885.6191 - mae: 6885.6191 - mse: 169512912.0000 - lr: 0.0100\n",
      "Epoch 51/250\n",
      "90/90 [==============================] - 41s 450ms/step - loss: 6886.7705 - mae: 6886.7705 - mse: 168759648.0000 - lr: 0.0100\n",
      "Epoch 52/250\n",
      "90/90 [==============================] - 43s 479ms/step - loss: 6850.1792 - mae: 6850.1792 - mse: 169180128.0000 - lr: 0.0100\n",
      "Epoch 53/250\n",
      "90/90 [==============================] - 43s 478ms/step - loss: 6846.7212 - mae: 6846.7212 - mse: 166933008.0000 - lr: 0.0100\n",
      "Epoch 54/250\n",
      "90/90 [==============================] - 41s 454ms/step - loss: 6877.6221 - mae: 6877.6221 - mse: 171041584.0000 - lr: 0.0100\n",
      "Epoch 55/250\n",
      "90/90 [==============================] - 43s 476ms/step - loss: 6893.7334 - mae: 6893.7334 - mse: 169721488.0000 - lr: 0.0100\n",
      "Epoch 56/250\n",
      "90/90 [==============================] - 43s 480ms/step - loss: 6884.0640 - mae: 6884.0640 - mse: 168454272.0000 - lr: 0.0100\n",
      "Epoch 57/250\n",
      "90/90 [==============================] - 43s 481ms/step - loss: 6872.6250 - mae: 6872.6250 - mse: 170525344.0000 - lr: 0.0100\n",
      "Epoch 58/250\n",
      "90/90 [==============================] - 41s 452ms/step - loss: 6837.0439 - mae: 6837.0439 - mse: 169349728.0000 - lr: 0.0100\n",
      "Epoch 59/250\n",
      "90/90 [==============================] - 43s 478ms/step - loss: 6866.2764 - mae: 6866.2764 - mse: 169219216.0000 - lr: 0.0100\n",
      "Epoch 60/250\n",
      "90/90 [==============================] - 43s 477ms/step - loss: 6893.6465 - mae: 6893.6465 - mse: 170299280.0000 - lr: 0.0100\n",
      "Epoch 61/250\n",
      "90/90 [==============================] - 41s 455ms/step - loss: 6883.3784 - mae: 6883.3784 - mse: 170351712.0000 - lr: 0.0100\n",
      "Epoch 62/250\n",
      "90/90 [==============================] - 43s 478ms/step - loss: 6895.1108 - mae: 6895.1108 - mse: 170003760.0000 - lr: 0.0100\n",
      "Epoch 63/250\n",
      "90/90 [==============================] - 43s 476ms/step - loss: 6876.6738 - mae: 6876.6738 - mse: 171574080.0000 - lr: 0.0100\n",
      "Epoch 64/250\n",
      "90/90 [==============================] - 43s 476ms/step - loss: 6860.9185 - mae: 6860.9185 - mse: 167555488.0000 - lr: 0.0100\n",
      "Epoch 65/250\n",
      "90/90 [==============================] - 41s 456ms/step - loss: 6866.5229 - mae: 6866.5229 - mse: 170819824.0000 - lr: 0.0100\n",
      "Epoch 66/250\n",
      "90/90 [==============================] - 43s 477ms/step - loss: 6837.6528 - mae: 6837.6528 - mse: 165634544.0000 - lr: 0.0100\n",
      "Epoch 67/250\n",
      "90/90 [==============================] - 43s 475ms/step - loss: 6837.0376 - mae: 6837.0376 - mse: 168110080.0000 - lr: 0.0100\n",
      "Epoch 68/250\n",
      "90/90 [==============================] - 40s 448ms/step - loss: 6859.2314 - mae: 6859.2314 - mse: 169133856.0000 - lr: 0.0100\n",
      "Epoch 69/250\n",
      "90/90 [==============================] - 43s 474ms/step - loss: 6851.0552 - mae: 6851.0552 - mse: 167051504.0000 - lr: 0.0100\n",
      "Epoch 70/250\n",
      "90/90 [==============================] - 42s 471ms/step - loss: 6861.3940 - mae: 6861.3940 - mse: 169795568.0000 - lr: 0.0100\n",
      "Epoch 71/250\n",
      "90/90 [==============================] - 41s 450ms/step - loss: 6857.9492 - mae: 6857.9492 - mse: 166618848.0000 - lr: 0.0100\n",
      "Epoch 72/250\n",
      "90/90 [==============================] - 42s 471ms/step - loss: 6815.5664 - mae: 6815.5664 - mse: 165850144.0000 - lr: 0.0100\n",
      "Epoch 73/250\n",
      "90/90 [==============================] - 42s 471ms/step - loss: 6842.8096 - mae: 6842.8096 - mse: 167598368.0000 - lr: 0.0100\n",
      "Epoch 74/250\n",
      "90/90 [==============================] - 42s 472ms/step - loss: 6855.1846 - mae: 6855.1846 - mse: 168543616.0000 - lr: 0.0100\n",
      "Epoch 75/250\n",
      "90/90 [==============================] - 41s 450ms/step - loss: 6860.6206 - mae: 6860.6206 - mse: 167849392.0000 - lr: 0.0100\n",
      "Epoch 76/250\n",
      "90/90 [==============================] - 42s 470ms/step - loss: 6844.0439 - mae: 6844.0439 - mse: 168897248.0000 - lr: 0.0100\n",
      "Epoch 77/250\n",
      "90/90 [==============================] - 42s 471ms/step - loss: 6915.2959 - mae: 6915.2959 - mse: 169588736.0000 - lr: 0.0100\n",
      "Epoch 78/250\n",
      "90/90 [==============================] - 40s 450ms/step - loss: 6885.0747 - mae: 6885.0747 - mse: 168210320.0000 - lr: 0.0100\n",
      "Epoch 79/250\n",
      "90/90 [==============================] - 43s 476ms/step - loss: 6868.9800 - mae: 6868.9800 - mse: 170531280.0000 - lr: 0.0100\n",
      "Epoch 80/250\n",
      "90/90 [==============================] - 43s 476ms/step - loss: 6864.0859 - mae: 6864.0859 - mse: 170598864.0000 - lr: 0.0100\n",
      "Epoch 81/250\n",
      "90/90 [==============================] - 41s 455ms/step - loss: 6833.9287 - mae: 6833.9287 - mse: 169241856.0000 - lr: 0.0100\n",
      "Epoch 82/250\n",
      "90/90 [==============================] - 43s 472ms/step - loss: 6832.2266 - mae: 6832.2266 - mse: 167297712.0000 - lr: 0.0100\n",
      "Epoch 83/250\n",
      "90/90 [==============================] - 43s 475ms/step - loss: 6891.3945 - mae: 6891.3945 - mse: 170791824.0000 - lr: 0.0100\n",
      "Epoch 84/250\n",
      "90/90 [==============================] - 43s 480ms/step - loss: 6902.0049 - mae: 6902.0049 - mse: 171812320.0000 - lr: 0.0100\n",
      "Epoch 85/250\n",
      "90/90 [==============================] - 41s 455ms/step - loss: 6817.0083 - mae: 6817.0083 - mse: 167583040.0000 - lr: 0.0100\n",
      "Epoch 86/250\n",
      "90/90 [==============================] - 43s 478ms/step - loss: 6881.2529 - mae: 6881.2529 - mse: 170917056.0000 - lr: 0.0100\n",
      "Epoch 87/250\n",
      "90/90 [==============================] - 43s 476ms/step - loss: 6886.8467 - mae: 6886.8467 - mse: 169257328.0000 - lr: 0.0100\n",
      "Epoch 88/250\n",
      "90/90 [==============================] - 41s 455ms/step - loss: 6889.0195 - mae: 6889.0195 - mse: 170295328.0000 - lr: 0.0100\n",
      "Epoch 89/250\n",
      "90/90 [==============================] - 44s 485ms/step - loss: 6880.7261 - mae: 6880.7261 - mse: 171199040.0000 - lr: 0.0100\n",
      "Epoch 90/250\n",
      "90/90 [==============================] - 44s 489ms/step - loss: 6843.5342 - mae: 6843.5342 - mse: 166792880.0000 - lr: 0.0100\n",
      "Epoch 91/250\n",
      "90/90 [==============================] - 44s 491ms/step - loss: 6898.6123 - mae: 6898.6123 - mse: 170868832.0000 - lr: 0.0100\n",
      "Epoch 92/250\n",
      "90/90 [==============================] - 43s 481ms/step - loss: 6865.7412 - mae: 6865.7412 - mse: 169533504.0000 - lr: 0.0100\n",
      "Epoch 93/250\n",
      "90/90 [==============================] - 47s 525ms/step - loss: 6876.7217 - mae: 6876.7217 - mse: 169032288.0000 - lr: 0.0100\n",
      "Epoch 94/250\n",
      "90/90 [==============================] - 48s 538ms/step - loss: 6867.9761 - mae: 6867.9761 - mse: 169431760.0000 - lr: 0.0100\n",
      "Epoch 95/250\n",
      "90/90 [==============================] - 49s 539ms/step - loss: 6838.4482 - mae: 6838.4482 - mse: 166260224.0000 - lr: 0.0100\n",
      "Epoch 96/250\n",
      "90/90 [==============================] - 47s 518ms/step - loss: 6852.0972 - mae: 6852.0972 - mse: 170290992.0000 - lr: 0.0100\n",
      "Epoch 97/250\n",
      "90/90 [==============================] - 45s 502ms/step - loss: 6883.2021 - mae: 6883.2021 - mse: 169407040.0000 - lr: 0.0100\n",
      "Epoch 98/250\n",
      "90/90 [==============================] - 43s 481ms/step - loss: 6831.6924 - mae: 6831.6924 - mse: 167923872.0000 - lr: 0.0100\n",
      "Epoch 99/250\n",
      "90/90 [==============================] - 43s 475ms/step - loss: 6848.0083 - mae: 6848.0083 - mse: 166447392.0000 - lr: 0.0100\n",
      "Epoch 100/250\n",
      "90/90 [==============================] - ETA: 0s - loss: 6801.9106 - mae: 6801.9106 - mse: 164588992.0000INFO:tensorflow:Unsupported signature for serialization: ((TensorSpec(shape=(7,), dtype=tf.float32, name='gradient'), <tensorflow.python.framework.func_graph.UnknownArgument object at 0x7eff44f0f710>, 139656178041680), {}).\n",
      "INFO:tensorflow:Unsupported signature for serialization: ((TensorSpec(shape=(7,), dtype=tf.float32, name='gradient'), <tensorflow.python.framework.func_graph.UnknownArgument object at 0x7eff44f26810>, 139656178106816), {}).\n",
      "INFO:tensorflow:Unsupported signature for serialization: ((TensorSpec(shape=(7,), dtype=tf.float32, name='gradient'), <tensorflow.python.framework.func_graph.UnknownArgument object at 0x7eff44f0f710>, 139656178041680), {}).\n",
      "INFO:tensorflow:Unsupported signature for serialization: ((TensorSpec(shape=(7,), dtype=tf.float32, name='gradient'), <tensorflow.python.framework.func_graph.UnknownArgument object at 0x7eff44f26810>, 139656178106816), {}).\n",
      "INFO:tensorflow:Assets written to: model_checkpoints/model_10/assets\n",
      "90/90 [==============================] - 44s 490ms/step - loss: 6801.9106 - mae: 6801.9106 - mse: 164588992.0000 - lr: 0.0100\n",
      "Epoch 101/250\n",
      "90/90 [==============================] - 43s 484ms/step - loss: 6849.7734 - mae: 6849.7734 - mse: 166967152.0000 - lr: 0.0100\n",
      "Epoch 102/250\n",
      "90/90 [==============================] - 43s 481ms/step - loss: 6805.8647 - mae: 6805.8647 - mse: 165081392.0000 - lr: 0.0100\n",
      "Epoch 103/250\n",
      "90/90 [==============================] - 43s 482ms/step - loss: 6849.1992 - mae: 6849.1992 - mse: 168532240.0000 - lr: 0.0100\n",
      "Epoch 104/250\n",
      "90/90 [==============================] - 41s 450ms/step - loss: 6854.0103 - mae: 6854.0103 - mse: 168554768.0000 - lr: 0.0100\n",
      "Epoch 105/250\n",
      "90/90 [==============================] - 43s 476ms/step - loss: 6881.5435 - mae: 6881.5435 - mse: 169727504.0000 - lr: 0.0100\n",
      "Epoch 106/250\n",
      "90/90 [==============================] - 43s 475ms/step - loss: 6893.4707 - mae: 6893.4707 - mse: 169618352.0000 - lr: 0.0100\n",
      "Epoch 107/250\n",
      "90/90 [==============================] - 41s 454ms/step - loss: 6871.2349 - mae: 6871.2349 - mse: 170083280.0000 - lr: 0.0100\n",
      "Epoch 108/250\n",
      "90/90 [==============================] - 43s 478ms/step - loss: 6871.5845 - mae: 6871.5845 - mse: 168802816.0000 - lr: 0.0100\n",
      "Epoch 109/250\n",
      "90/90 [==============================] - 43s 474ms/step - loss: 6826.6616 - mae: 6826.6616 - mse: 166780512.0000 - lr: 0.0100\n",
      "Epoch 110/250\n",
      "90/90 [==============================] - 40s 450ms/step - loss: 6853.2690 - mae: 6853.2690 - mse: 169143200.0000 - lr: 0.0100\n",
      "Epoch 111/250\n",
      "90/90 [==============================] - 43s 473ms/step - loss: 6870.8716 - mae: 6870.8716 - mse: 169688320.0000 - lr: 0.0100\n",
      "Epoch 112/250\n",
      "90/90 [==============================] - 42s 472ms/step - loss: 6904.7031 - mae: 6904.7031 - mse: 171534224.0000 - lr: 0.0100\n",
      "Epoch 113/250\n",
      "90/90 [==============================] - 42s 472ms/step - loss: 6838.9937 - mae: 6838.9937 - mse: 168533024.0000 - lr: 0.0100\n",
      "Epoch 114/250\n",
      "90/90 [==============================] - 41s 453ms/step - loss: 6883.2949 - mae: 6883.2949 - mse: 169589600.0000 - lr: 0.0100\n",
      "Epoch 115/250\n",
      "90/90 [==============================] - 43s 474ms/step - loss: 6902.8691 - mae: 6902.8691 - mse: 171078688.0000 - lr: 0.0100\n",
      "Epoch 116/250\n",
      "90/90 [==============================] - 43s 476ms/step - loss: 6862.8291 - mae: 6862.8291 - mse: 168956464.0000 - lr: 0.0100\n",
      "Epoch 117/250\n",
      "90/90 [==============================] - 41s 454ms/step - loss: 6892.7422 - mae: 6892.7422 - mse: 168442704.0000 - lr: 0.0100\n",
      "Epoch 118/250\n",
      "90/90 [==============================] - 43s 477ms/step - loss: 6900.2949 - mae: 6900.2949 - mse: 170466944.0000 - lr: 0.0100\n",
      "Epoch 119/250\n",
      "90/90 [==============================] - 43s 474ms/step - loss: 6869.6797 - mae: 6869.6797 - mse: 169047840.0000 - lr: 0.0100\n",
      "Epoch 120/250\n",
      "90/90 [==============================] - 41s 453ms/step - loss: 6901.5054 - mae: 6901.5054 - mse: 172802688.0000 - lr: 0.0100\n",
      "Epoch 121/250\n",
      "90/90 [==============================] - 43s 473ms/step - loss: 6850.7935 - mae: 6850.7935 - mse: 169083056.0000 - lr: 0.0100\n",
      "Epoch 122/250\n",
      "90/90 [==============================] - 43s 473ms/step - loss: 6871.0474 - mae: 6871.0474 - mse: 166685776.0000 - lr: 0.0100\n",
      "Epoch 123/250\n",
      "90/90 [==============================] - 42s 472ms/step - loss: 6867.9824 - mae: 6867.9824 - mse: 170593984.0000 - lr: 0.0100\n",
      "Epoch 124/250\n",
      "90/90 [==============================] - 41s 455ms/step - loss: 6869.7397 - mae: 6869.7397 - mse: 169654112.0000 - lr: 0.0100\n",
      "Epoch 125/250\n",
      "90/90 [==============================] - 43s 476ms/step - loss: 6869.4175 - mae: 6869.4175 - mse: 169713184.0000 - lr: 0.0100\n",
      "Epoch 126/250\n",
      "90/90 [==============================] - 43s 477ms/step - loss: 6860.1138 - mae: 6860.1138 - mse: 169374400.0000 - lr: 0.0100\n",
      "Epoch 127/250\n",
      "90/90 [==============================] - 40s 449ms/step - loss: 6857.0244 - mae: 6857.0244 - mse: 169570912.0000 - lr: 0.0100\n",
      "Epoch 128/250\n",
      "90/90 [==============================] - 43s 476ms/step - loss: 6899.9434 - mae: 6899.9434 - mse: 169677440.0000 - lr: 0.0100\n",
      "Epoch 129/250\n",
      "90/90 [==============================] - 43s 476ms/step - loss: 6888.6709 - mae: 6888.6709 - mse: 170300576.0000 - lr: 0.0100\n",
      "Epoch 130/250\n",
      "90/90 [==============================] - 41s 453ms/step - loss: 6870.4121 - mae: 6870.4121 - mse: 168109360.0000 - lr: 0.0100\n",
      "Epoch 131/250\n",
      "90/90 [==============================] - 43s 470ms/step - loss: 6868.4380 - mae: 6868.4380 - mse: 170696048.0000 - lr: 0.0100\n",
      "Epoch 132/250\n",
      "90/90 [==============================] - 43s 477ms/step - loss: 6831.7017 - mae: 6831.7017 - mse: 167636704.0000 - lr: 0.0100\n",
      "Epoch 133/250\n",
      "90/90 [==============================] - 43s 476ms/step - loss: 6855.6694 - mae: 6855.6694 - mse: 169306048.0000 - lr: 0.0100\n",
      "Epoch 134/250\n",
      "90/90 [==============================] - 40s 450ms/step - loss: 6893.1333 - mae: 6893.1333 - mse: 170583040.0000 - lr: 0.0100\n",
      "Epoch 135/250\n",
      "90/90 [==============================] - 42s 472ms/step - loss: 6896.1255 - mae: 6896.1255 - mse: 171308544.0000 - lr: 0.0100\n",
      "Epoch 136/250\n",
      "90/90 [==============================] - 42s 471ms/step - loss: 6861.0845 - mae: 6861.0845 - mse: 168867792.0000 - lr: 0.0100\n",
      "Epoch 137/250\n",
      "90/90 [==============================] - 42s 462ms/step - loss: 6831.8203 - mae: 6831.8203 - mse: 167292752.0000 - lr: 0.0100\n",
      "Epoch 138/250\n",
      "90/90 [==============================] - 44s 487ms/step - loss: 6886.4580 - mae: 6886.4580 - mse: 170826400.0000 - lr: 0.0100\n",
      "Epoch 139/250\n",
      "90/90 [==============================] - 44s 493ms/step - loss: 6865.8535 - mae: 6865.8535 - mse: 169256848.0000 - lr: 0.0100\n",
      "Epoch 140/250\n",
      "90/90 [==============================] - 44s 489ms/step - loss: 6898.1484 - mae: 6898.1484 - mse: 169898896.0000 - lr: 0.0100\n",
      "Epoch 141/250\n",
      "90/90 [==============================] - 42s 469ms/step - loss: 6815.8882 - mae: 6815.8882 - mse: 167553072.0000 - lr: 0.0100\n",
      "Epoch 142/250\n",
      "90/90 [==============================] - 43s 483ms/step - loss: 6891.1582 - mae: 6891.1582 - mse: 171625488.0000 - lr: 0.0100\n",
      "Epoch 143/250\n",
      "90/90 [==============================] - 44s 490ms/step - loss: 6862.1191 - mae: 6862.1191 - mse: 166717088.0000 - lr: 0.0100\n",
      "Epoch 144/250\n",
      "90/90 [==============================] - 41s 457ms/step - loss: 6874.0518 - mae: 6874.0518 - mse: 171585856.0000 - lr: 0.0100\n",
      "Epoch 145/250\n",
      "90/90 [==============================] - 44s 484ms/step - loss: 6828.1909 - mae: 6828.1909 - mse: 167293984.0000 - lr: 0.0100\n",
      "Epoch 146/250\n",
      "90/90 [==============================] - 43s 477ms/step - loss: 6879.1406 - mae: 6879.1406 - mse: 168851744.0000 - lr: 0.0100\n",
      "Epoch 147/250\n",
      "90/90 [==============================] - 43s 476ms/step - loss: 6888.0361 - mae: 6888.0361 - mse: 170879792.0000 - lr: 0.0100\n",
      "Epoch 148/250\n",
      "90/90 [==============================] - 40s 447ms/step - loss: 6856.0620 - mae: 6856.0620 - mse: 169873088.0000 - lr: 0.0100\n",
      "Epoch 149/250\n",
      "90/90 [==============================] - 42s 470ms/step - loss: 6868.6123 - mae: 6868.6123 - mse: 168966240.0000 - lr: 0.0100\n",
      "Epoch 150/250\n",
      "90/90 [==============================] - 42s 471ms/step - loss: 6856.2295 - mae: 6856.2295 - mse: 168571504.0000 - lr: 0.0100\n",
      "Epoch 151/250\n",
      "90/90 [==============================] - 41s 451ms/step - loss: 6855.9321 - mae: 6855.9321 - mse: 170828560.0000 - lr: 0.0100\n",
      "Epoch 152/250\n",
      "90/90 [==============================] - 42s 471ms/step - loss: 6877.7866 - mae: 6877.7866 - mse: 168299696.0000 - lr: 0.0100\n",
      "Epoch 153/250\n",
      "90/90 [==============================] - 42s 470ms/step - loss: 6839.0811 - mae: 6839.0811 - mse: 169136720.0000 - lr: 0.0100\n",
      "Epoch 154/250\n",
      "90/90 [==============================] - 41s 451ms/step - loss: 6822.0996 - mae: 6822.0996 - mse: 165379840.0000 - lr: 0.0100\n",
      "Epoch 155/250\n",
      "90/90 [==============================] - 43s 474ms/step - loss: 6837.3516 - mae: 6837.3516 - mse: 163378272.0000 - lr: 0.0100\n",
      "Epoch 156/250\n",
      "90/90 [==============================] - 42s 472ms/step - loss: 6810.6934 - mae: 6810.6934 - mse: 164342016.0000 - lr: 0.0100\n",
      "Epoch 157/250\n",
      "90/90 [==============================] - 42s 469ms/step - loss: 6830.5454 - mae: 6830.5454 - mse: 164033824.0000 - lr: 0.0100\n",
      "Epoch 158/250\n",
      "90/90 [==============================] - 40s 448ms/step - loss: 6820.9839 - mae: 6820.9839 - mse: 165152576.0000 - lr: 0.0100\n",
      "Epoch 159/250\n",
      "90/90 [==============================] - ETA: 0s - loss: 6795.1528 - mae: 6795.1528 - mse: 161400960.0000INFO:tensorflow:Unsupported signature for serialization: ((TensorSpec(shape=(7,), dtype=tf.float32, name='gradient'), <tensorflow.python.framework.func_graph.UnknownArgument object at 0x7eff44f0f710>, 139656178041680), {}).\n",
      "INFO:tensorflow:Unsupported signature for serialization: ((TensorSpec(shape=(7,), dtype=tf.float32, name='gradient'), <tensorflow.python.framework.func_graph.UnknownArgument object at 0x7eff44f26810>, 139656178106816), {}).\n",
      "INFO:tensorflow:Unsupported signature for serialization: ((TensorSpec(shape=(7,), dtype=tf.float32, name='gradient'), <tensorflow.python.framework.func_graph.UnknownArgument object at 0x7eff44f0f710>, 139656178041680), {}).\n",
      "INFO:tensorflow:Unsupported signature for serialization: ((TensorSpec(shape=(7,), dtype=tf.float32, name='gradient'), <tensorflow.python.framework.func_graph.UnknownArgument object at 0x7eff44f26810>, 139656178106816), {}).\n",
      "INFO:tensorflow:Assets written to: model_checkpoints/model_10/assets\n",
      "90/90 [==============================] - 46s 510ms/step - loss: 6795.1528 - mae: 6795.1528 - mse: 161400960.0000 - lr: 0.0100\n",
      "Epoch 160/250\n",
      "90/90 [==============================] - 42s 472ms/step - loss: 6817.2783 - mae: 6817.2783 - mse: 163489312.0000 - lr: 0.0100\n",
      "Epoch 161/250\n",
      "90/90 [==============================] - 40s 449ms/step - loss: 6810.1553 - mae: 6810.1553 - mse: 160946880.0000 - lr: 0.0100\n",
      "Epoch 162/250\n",
      "90/90 [==============================] - 42s 470ms/step - loss: 6796.7944 - mae: 6796.7944 - mse: 162564256.0000 - lr: 0.0100\n",
      "Epoch 163/250\n",
      "90/90 [==============================] - 42s 472ms/step - loss: 6804.7432 - mae: 6804.7432 - mse: 164391360.0000 - lr: 0.0100\n",
      "Epoch 164/250\n",
      "90/90 [==============================] - 41s 455ms/step - loss: 6809.2573 - mae: 6809.2573 - mse: 161973600.0000 - lr: 0.0100\n",
      "Epoch 165/250\n",
      "90/90 [==============================] - 43s 470ms/step - loss: 6828.8740 - mae: 6828.8740 - mse: 163024320.0000 - lr: 0.0100\n",
      "Epoch 166/250\n",
      "90/90 [==============================] - 43s 478ms/step - loss: 6803.3745 - mae: 6803.3745 - mse: 162178800.0000 - lr: 0.0100\n",
      "Epoch 167/250\n",
      "90/90 [==============================] - 43s 475ms/step - loss: 6816.9917 - mae: 6816.9917 - mse: 163616192.0000 - lr: 0.0100\n",
      "Epoch 168/250\n",
      "90/90 [==============================] - ETA: 0s - loss: 6793.5732 - mae: 6793.5732 - mse: 163777680.0000INFO:tensorflow:Unsupported signature for serialization: ((TensorSpec(shape=(7,), dtype=tf.float32, name='gradient'), <tensorflow.python.framework.func_graph.UnknownArgument object at 0x7eff44f0f710>, 139656178041680), {}).\n",
      "INFO:tensorflow:Unsupported signature for serialization: ((TensorSpec(shape=(7,), dtype=tf.float32, name='gradient'), <tensorflow.python.framework.func_graph.UnknownArgument object at 0x7eff44f26810>, 139656178106816), {}).\n",
      "INFO:tensorflow:Unsupported signature for serialization: ((TensorSpec(shape=(7,), dtype=tf.float32, name='gradient'), <tensorflow.python.framework.func_graph.UnknownArgument object at 0x7eff44f0f710>, 139656178041680), {}).\n",
      "INFO:tensorflow:Unsupported signature for serialization: ((TensorSpec(shape=(7,), dtype=tf.float32, name='gradient'), <tensorflow.python.framework.func_graph.UnknownArgument object at 0x7eff44f26810>, 139656178106816), {}).\n",
      "INFO:tensorflow:Assets written to: model_checkpoints/model_10/assets\n",
      "90/90 [==============================] - 44s 492ms/step - loss: 6793.5732 - mae: 6793.5732 - mse: 163777680.0000 - lr: 0.0100\n",
      "Epoch 169/250\n",
      "90/90 [==============================] - 43s 474ms/step - loss: 6822.5342 - mae: 6822.5342 - mse: 167511872.0000 - lr: 0.0100\n",
      "Epoch 170/250\n",
      "90/90 [==============================] - 43s 474ms/step - loss: 6802.2627 - mae: 6802.2627 - mse: 160610624.0000 - lr: 0.0100\n",
      "Epoch 171/250\n",
      "90/90 [==============================] - 41s 454ms/step - loss: 6800.4463 - mae: 6800.4463 - mse: 163088912.0000 - lr: 0.0100\n",
      "Epoch 172/250\n",
      "90/90 [==============================] - 43s 476ms/step - loss: 6816.2959 - mae: 6816.2959 - mse: 165101184.0000 - lr: 0.0100\n",
      "Epoch 173/250\n",
      "90/90 [==============================] - 43s 474ms/step - loss: 6808.3711 - mae: 6808.3711 - mse: 162731328.0000 - lr: 0.0100\n",
      "Epoch 174/250\n",
      "90/90 [==============================] - 42s 472ms/step - loss: 6815.7524 - mae: 6815.7524 - mse: 162850800.0000 - lr: 0.0100\n",
      "Epoch 175/250\n",
      "90/90 [==============================] - 40s 449ms/step - loss: 6797.2197 - mae: 6797.2197 - mse: 160689984.0000 - lr: 0.0100\n",
      "Epoch 176/250\n",
      "90/90 [==============================] - 44s 485ms/step - loss: 6798.3066 - mae: 6798.3066 - mse: 160987008.0000 - lr: 0.0100\n",
      "Epoch 177/250\n",
      "90/90 [==============================] - 44s 485ms/step - loss: 6802.4624 - mae: 6802.4624 - mse: 162945568.0000 - lr: 0.0100\n",
      "Epoch 178/250\n",
      "90/90 [==============================] - 41s 455ms/step - loss: 6835.6416 - mae: 6835.6416 - mse: 167937392.0000 - lr: 0.0100\n",
      "Epoch 179/250\n",
      "90/90 [==============================] - 43s 476ms/step - loss: 6799.3843 - mae: 6799.3843 - mse: 161303808.0000 - lr: 0.0100\n",
      "Epoch 180/250\n",
      "90/90 [==============================] - 43s 474ms/step - loss: 6818.0874 - mae: 6818.0874 - mse: 163527584.0000 - lr: 0.0100\n",
      "Epoch 181/250\n",
      "90/90 [==============================] - 43s 476ms/step - loss: 6806.1553 - mae: 6806.1553 - mse: 161620224.0000 - lr: 0.0100\n",
      "Epoch 182/250\n",
      "90/90 [==============================] - 41s 457ms/step - loss: 6796.9238 - mae: 6796.9238 - mse: 162315824.0000 - lr: 0.0100\n",
      "Epoch 183/250\n",
      "90/90 [==============================] - 43s 480ms/step - loss: 6801.9331 - mae: 6801.9331 - mse: 161661392.0000 - lr: 0.0100\n",
      "Epoch 184/250\n",
      "90/90 [==============================] - 43s 477ms/step - loss: 6807.6079 - mae: 6807.6079 - mse: 162923712.0000 - lr: 0.0100\n",
      "Epoch 185/250\n",
      "90/90 [==============================] - 41s 457ms/step - loss: 6795.7344 - mae: 6795.7344 - mse: 161527712.0000 - lr: 0.0100\n",
      "Epoch 186/250\n",
      "90/90 [==============================] - 43s 476ms/step - loss: 6795.8047 - mae: 6795.8047 - mse: 162706720.0000 - lr: 0.0100\n",
      "Epoch 187/250\n",
      "90/90 [==============================] - 43s 480ms/step - loss: 6846.6812 - mae: 6846.6812 - mse: 166423344.0000 - lr: 0.0100\n",
      "Epoch 188/250\n",
      "90/90 [==============================] - 41s 457ms/step - loss: 6832.7568 - mae: 6832.7568 - mse: 161463696.0000 - lr: 0.0100\n",
      "Epoch 189/250\n",
      "90/90 [==============================] - 43s 473ms/step - loss: 6806.1514 - mae: 6806.1514 - mse: 163140480.0000 - lr: 0.0100\n",
      "Epoch 190/250\n",
      "90/90 [==============================] - 43s 480ms/step - loss: 6801.5679 - mae: 6801.5679 - mse: 163202208.0000 - lr: 0.0100\n",
      "Epoch 191/250\n",
      "90/90 [==============================] - 43s 481ms/step - loss: 6807.9575 - mae: 6807.9575 - mse: 163003296.0000 - lr: 0.0100\n",
      "Epoch 192/250\n",
      "90/90 [==============================] - 41s 457ms/step - loss: 6801.5093 - mae: 6801.5093 - mse: 161389952.0000 - lr: 0.0100\n",
      "Epoch 193/250\n",
      "90/90 [==============================] - 43s 480ms/step - loss: 6802.5796 - mae: 6802.5796 - mse: 161399664.0000 - lr: 0.0100\n",
      "Epoch 194/250\n",
      "90/90 [==============================] - ETA: 0s - loss: 6789.1274 - mae: 6789.1274 - mse: 162891584.0000INFO:tensorflow:Unsupported signature for serialization: ((TensorSpec(shape=(7,), dtype=tf.float32, name='gradient'), <tensorflow.python.framework.func_graph.UnknownArgument object at 0x7eff44f0f710>, 139656178041680), {}).\n",
      "INFO:tensorflow:Unsupported signature for serialization: ((TensorSpec(shape=(7,), dtype=tf.float32, name='gradient'), <tensorflow.python.framework.func_graph.UnknownArgument object at 0x7eff44f26810>, 139656178106816), {}).\n",
      "INFO:tensorflow:Unsupported signature for serialization: ((TensorSpec(shape=(7,), dtype=tf.float32, name='gradient'), <tensorflow.python.framework.func_graph.UnknownArgument object at 0x7eff44f0f710>, 139656178041680), {}).\n",
      "INFO:tensorflow:Unsupported signature for serialization: ((TensorSpec(shape=(7,), dtype=tf.float32, name='gradient'), <tensorflow.python.framework.func_graph.UnknownArgument object at 0x7eff44f26810>, 139656178106816), {}).\n",
      "INFO:tensorflow:Assets written to: model_checkpoints/model_10/assets\n",
      "90/90 [==============================] - 46s 516ms/step - loss: 6789.1274 - mae: 6789.1274 - mse: 162891584.0000 - lr: 0.0100\n",
      "Epoch 195/250\n",
      "90/90 [==============================] - 42s 464ms/step - loss: 6800.1167 - mae: 6800.1167 - mse: 161467216.0000 - lr: 0.0100\n",
      "Epoch 196/250\n",
      "90/90 [==============================] - 42s 457ms/step - loss: 6796.4512 - mae: 6796.4512 - mse: 162344592.0000 - lr: 0.0100\n",
      "Epoch 197/250\n",
      "90/90 [==============================] - 43s 476ms/step - loss: 6803.2935 - mae: 6803.2935 - mse: 160601600.0000 - lr: 0.0100\n",
      "Epoch 198/250\n",
      "90/90 [==============================] - 43s 475ms/step - loss: 6796.3833 - mae: 6796.3833 - mse: 162549600.0000 - lr: 0.0100\n",
      "Epoch 199/250\n",
      "90/90 [==============================] - 40s 449ms/step - loss: 6793.6514 - mae: 6793.6514 - mse: 161640848.0000 - lr: 0.0100\n",
      "Epoch 200/250\n",
      "90/90 [==============================] - 43s 477ms/step - loss: 6808.3970 - mae: 6808.3970 - mse: 160358672.0000 - lr: 0.0100\n",
      "Epoch 201/250\n",
      "90/90 [==============================] - 43s 476ms/step - loss: 6791.6055 - mae: 6791.6055 - mse: 163891248.0000 - lr: 0.0100\n",
      "Epoch 202/250\n",
      "90/90 [==============================] - 41s 455ms/step - loss: 6809.9395 - mae: 6809.9395 - mse: 160668128.0000 - lr: 0.0100\n",
      "Epoch 203/250\n",
      "90/90 [==============================] - 43s 473ms/step - loss: 6807.2666 - mae: 6807.2666 - mse: 163837152.0000 - lr: 0.0100\n",
      "Epoch 204/250\n",
      "90/90 [==============================] - 43s 476ms/step - loss: 6804.3970 - mae: 6804.3970 - mse: 163193680.0000 - lr: 0.0100\n",
      "Epoch 205/250\n",
      "90/90 [==============================] - ETA: 0s - loss: 6778.6699 - mae: 6778.6699 - mse: 161130192.0000INFO:tensorflow:Unsupported signature for serialization: ((TensorSpec(shape=(7,), dtype=tf.float32, name='gradient'), <tensorflow.python.framework.func_graph.UnknownArgument object at 0x7eff44f0f710>, 139656178041680), {}).\n",
      "INFO:tensorflow:Unsupported signature for serialization: ((TensorSpec(shape=(7,), dtype=tf.float32, name='gradient'), <tensorflow.python.framework.func_graph.UnknownArgument object at 0x7eff44f26810>, 139656178106816), {}).\n",
      "INFO:tensorflow:Unsupported signature for serialization: ((TensorSpec(shape=(7,), dtype=tf.float32, name='gradient'), <tensorflow.python.framework.func_graph.UnknownArgument object at 0x7eff44f0f710>, 139656178041680), {}).\n",
      "INFO:tensorflow:Unsupported signature for serialization: ((TensorSpec(shape=(7,), dtype=tf.float32, name='gradient'), <tensorflow.python.framework.func_graph.UnknownArgument object at 0x7eff44f26810>, 139656178106816), {}).\n",
      "INFO:tensorflow:Assets written to: model_checkpoints/model_10/assets\n",
      "90/90 [==============================] - 46s 512ms/step - loss: 6778.6699 - mae: 6778.6699 - mse: 161130192.0000 - lr: 0.0100\n",
      "Epoch 206/250\n",
      "90/90 [==============================] - 41s 453ms/step - loss: 6800.6138 - mae: 6800.6138 - mse: 161484304.0000 - lr: 0.0100\n",
      "Epoch 207/250\n",
      "90/90 [==============================] - 43s 479ms/step - loss: 6792.6421 - mae: 6792.6421 - mse: 161641824.0000 - lr: 0.0100\n",
      "Epoch 208/250\n",
      "90/90 [==============================] - 44s 487ms/step - loss: 6791.7212 - mae: 6791.7212 - mse: 159904272.0000 - lr: 0.0100\n",
      "Epoch 209/250\n",
      "90/90 [==============================] - 41s 460ms/step - loss: 6792.8125 - mae: 6792.8125 - mse: 162532576.0000 - lr: 0.0100\n",
      "Epoch 210/250\n",
      "90/90 [==============================] - 44s 484ms/step - loss: 6808.5781 - mae: 6808.5781 - mse: 161489952.0000 - lr: 0.0100\n",
      "Epoch 211/250\n",
      "90/90 [==============================] - 44s 485ms/step - loss: 6790.6758 - mae: 6790.6758 - mse: 161800704.0000 - lr: 0.0100\n",
      "Epoch 212/250\n",
      "90/90 [==============================] - 44s 486ms/step - loss: 6780.8018 - mae: 6780.8018 - mse: 161562352.0000 - lr: 0.0100\n",
      "Epoch 213/250\n",
      "90/90 [==============================] - ETA: 0s - loss: 6774.4604 - mae: 6774.4604 - mse: 161549664.0000INFO:tensorflow:Unsupported signature for serialization: ((TensorSpec(shape=(7,), dtype=tf.float32, name='gradient'), <tensorflow.python.framework.func_graph.UnknownArgument object at 0x7eff44f0f710>, 139656178041680), {}).\n",
      "INFO:tensorflow:Unsupported signature for serialization: ((TensorSpec(shape=(7,), dtype=tf.float32, name='gradient'), <tensorflow.python.framework.func_graph.UnknownArgument object at 0x7eff44f26810>, 139656178106816), {}).\n",
      "INFO:tensorflow:Unsupported signature for serialization: ((TensorSpec(shape=(7,), dtype=tf.float32, name='gradient'), <tensorflow.python.framework.func_graph.UnknownArgument object at 0x7eff44f0f710>, 139656178041680), {}).\n",
      "INFO:tensorflow:Unsupported signature for serialization: ((TensorSpec(shape=(7,), dtype=tf.float32, name='gradient'), <tensorflow.python.framework.func_graph.UnknownArgument object at 0x7eff44f26810>, 139656178106816), {}).\n",
      "INFO:tensorflow:Assets written to: model_checkpoints/model_10/assets\n",
      "90/90 [==============================] - 45s 496ms/step - loss: 6774.4604 - mae: 6774.4604 - mse: 161549664.0000 - lr: 0.0100\n",
      "Epoch 214/250\n",
      "90/90 [==============================] - 43s 475ms/step - loss: 6790.8179 - mae: 6790.8179 - mse: 162592048.0000 - lr: 0.0100\n",
      "Epoch 215/250\n",
      "90/90 [==============================] - 43s 474ms/step - loss: 6815.6436 - mae: 6815.6436 - mse: 161925312.0000 - lr: 0.0100\n",
      "Epoch 216/250\n",
      "90/90 [==============================] - 41s 455ms/step - loss: 6801.3423 - mae: 6801.3423 - mse: 161398240.0000 - lr: 0.0100\n",
      "Epoch 217/250\n",
      "90/90 [==============================] - 43s 476ms/step - loss: 6836.1763 - mae: 6836.1763 - mse: 166882624.0000 - lr: 0.0100\n",
      "Epoch 218/250\n",
      "90/90 [==============================] - 43s 475ms/step - loss: 6814.8545 - mae: 6814.8545 - mse: 162657120.0000 - lr: 0.0100\n",
      "Epoch 219/250\n",
      "90/90 [==============================] - 43s 477ms/step - loss: 6778.2329 - mae: 6778.2329 - mse: 163736224.0000 - lr: 0.0100\n",
      "Epoch 220/250\n",
      "90/90 [==============================] - 41s 451ms/step - loss: 6832.1909 - mae: 6832.1909 - mse: 163275664.0000 - lr: 0.0100\n",
      "Epoch 221/250\n",
      "90/90 [==============================] - 43s 474ms/step - loss: 6807.6675 - mae: 6807.6675 - mse: 164831168.0000 - lr: 0.0100\n",
      "Epoch 222/250\n",
      "90/90 [==============================] - 43s 474ms/step - loss: 6823.4199 - mae: 6823.4199 - mse: 164009008.0000 - lr: 0.0100\n",
      "Epoch 223/250\n",
      "90/90 [==============================] - 41s 452ms/step - loss: 6785.7090 - mae: 6785.7090 - mse: 162241936.0000 - lr: 0.0100\n",
      "Epoch 224/250\n",
      "90/90 [==============================] - 43s 473ms/step - loss: 6804.6992 - mae: 6804.6992 - mse: 164339968.0000 - lr: 0.0100\n",
      "Epoch 225/250\n",
      "90/90 [==============================] - 43s 477ms/step - loss: 6809.2734 - mae: 6809.2734 - mse: 164191408.0000 - lr: 0.0100\n",
      "Epoch 226/250\n",
      "90/90 [==============================] - 41s 450ms/step - loss: 6838.3359 - mae: 6838.3359 - mse: 163261200.0000 - lr: 0.0100\n",
      "Epoch 227/250\n",
      "90/90 [==============================] - 43s 477ms/step - loss: 6793.2642 - mae: 6793.2642 - mse: 162685264.0000 - lr: 0.0100\n",
      "Epoch 228/250\n",
      "90/90 [==============================] - 42s 471ms/step - loss: 6811.8906 - mae: 6811.8906 - mse: 161631824.0000 - lr: 0.0100\n",
      "Epoch 229/250\n",
      "90/90 [==============================] - 43s 475ms/step - loss: 6796.1431 - mae: 6796.1431 - mse: 162735376.0000 - lr: 0.0100\n",
      "Epoch 230/250\n",
      "90/90 [==============================] - 40s 450ms/step - loss: 6812.8618 - mae: 6812.8618 - mse: 162227280.0000 - lr: 0.0100\n",
      "Epoch 231/250\n",
      "90/90 [==============================] - 42s 472ms/step - loss: 6789.6367 - mae: 6789.6367 - mse: 163765600.0000 - lr: 0.0100\n",
      "Epoch 232/250\n",
      "90/90 [==============================] - 43s 474ms/step - loss: 6805.0786 - mae: 6805.0786 - mse: 159561920.0000 - lr: 0.0100\n",
      "Epoch 233/250\n",
      "90/90 [==============================] - 41s 454ms/step - loss: 6792.7373 - mae: 6792.7373 - mse: 163281488.0000 - lr: 0.0100\n",
      "Epoch 234/250\n",
      "90/90 [==============================] - 43s 476ms/step - loss: 6810.9800 - mae: 6810.9800 - mse: 163867536.0000 - lr: 0.0100\n",
      "Epoch 235/250\n",
      "90/90 [==============================] - 42s 471ms/step - loss: 6787.6304 - mae: 6787.6304 - mse: 161248240.0000 - lr: 0.0100\n",
      "Epoch 236/250\n",
      "90/90 [==============================] - 40s 449ms/step - loss: 6797.6333 - mae: 6797.6333 - mse: 163073984.0000 - lr: 0.0100\n",
      "Epoch 237/250\n",
      "90/90 [==============================] - 43s 470ms/step - loss: 6799.2749 - mae: 6799.2749 - mse: 164112720.0000 - lr: 0.0100\n",
      "Epoch 238/250\n",
      "90/90 [==============================] - 42s 471ms/step - loss: 6802.7021 - mae: 6802.7021 - mse: 160292864.0000 - lr: 0.0100\n",
      "Epoch 239/250\n",
      "90/90 [==============================] - 43s 474ms/step - loss: 6799.1821 - mae: 6799.1821 - mse: 163679968.0000 - lr: 0.0100\n",
      "Epoch 240/250\n",
      "90/90 [==============================] - 41s 452ms/step - loss: 6788.2148 - mae: 6788.2148 - mse: 160416528.0000 - lr: 0.0100\n",
      "Epoch 241/250\n",
      "90/90 [==============================] - 43s 473ms/step - loss: 6784.1714 - mae: 6784.1714 - mse: 161097904.0000 - lr: 0.0100\n",
      "Epoch 242/250\n",
      "90/90 [==============================] - 43s 478ms/step - loss: 6787.4756 - mae: 6787.4756 - mse: 160388592.0000 - lr: 0.0100\n",
      "Epoch 243/250\n",
      "90/90 [==============================] - 41s 452ms/step - loss: 6795.1323 - mae: 6795.1323 - mse: 161428464.0000 - lr: 0.0100\n",
      "Epoch 244/250\n",
      "90/90 [==============================] - 43s 476ms/step - loss: 6827.3740 - mae: 6827.3740 - mse: 162390704.0000 - lr: 0.0100\n",
      "Epoch 245/250\n",
      "90/90 [==============================] - 42s 470ms/step - loss: 6809.3535 - mae: 6809.3535 - mse: 162532912.0000 - lr: 0.0100\n",
      "Epoch 246/250\n",
      "90/90 [==============================] - 41s 453ms/step - loss: 6783.5112 - mae: 6783.5112 - mse: 163223552.0000 - lr: 0.0100\n",
      "Epoch 247/250\n",
      "90/90 [==============================] - 42s 463ms/step - loss: 6787.2227 - mae: 6787.2227 - mse: 160559264.0000 - lr: 0.0100\n",
      "Epoch 248/250\n",
      "90/90 [==============================] - 42s 472ms/step - loss: 6816.5884 - mae: 6816.5884 - mse: 163581392.0000 - lr: 0.0100\n",
      "Epoch 249/250\n",
      "90/90 [==============================] - 42s 472ms/step - loss: 6804.9058 - mae: 6804.9058 - mse: 161848624.0000 - lr: 0.0100\n",
      "Epoch 250/250\n",
      "90/90 [==============================] - 40s 450ms/step - loss: 6804.4395 - mae: 6804.4395 - mse: 161998880.0000 - lr: 0.0100\n"
     ]
    }
   ],
   "source": [
    "history_10 = model_10.fit(\n",
    "    train_windows,\n",
    "    train_labels,\n",
    "    epochs=250,\n",
    "    callbacks=[\n",
    "        create_model_checkpoint(model_name=model_10.name),\n",
    "        create_tensorboard_callback(\n",
    "            dir_name='tensorboard_logs/tensorboard_logs_model_10',\n",
    "            experiment_name='model_10'\n",
    "        ),\n",
    "        early_stopping,\n",
    "        reduce_lr_plateau,\n",
    "        \n",
    "    ]\n",
    ")"
   ]
  },
  {
   "cell_type": "code",
   "execution_count": null,
   "id": "e88ca0c2-df0c-4eee-a3b5-ff56ed9e9b2c",
   "metadata": {},
   "outputs": [],
   "source": []
  }
 ],
 "metadata": {
  "environment": {
   "kernel": "python3",
   "name": "tf2-gpu.2-11.m102",
   "type": "gcloud",
   "uri": "gcr.io/deeplearning-platform-release/tf2-gpu.2-11:m102"
  },
  "kernelspec": {
   "display_name": "Python 3 (ipykernel)",
   "language": "python",
   "name": "python3"
  },
  "language_info": {
   "codemirror_mode": {
    "name": "ipython",
    "version": 3
   },
   "file_extension": ".py",
   "mimetype": "text/x-python",
   "name": "python",
   "nbconvert_exporter": "python",
   "pygments_lexer": "ipython3",
   "version": "3.7.12"
  },
  "vscode": {
   "interpreter": {
    "hash": "ed21d5474e4d34402bc17b7e6678523875881abed00fabc0c331683181e10ba6"
   }
  }
 },
 "nbformat": 4,
 "nbformat_minor": 5
}
